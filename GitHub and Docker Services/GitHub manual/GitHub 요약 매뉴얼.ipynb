{
 "cells": [
  {
   "cell_type": "markdown",
   "metadata": {},
   "source": [
    "# GitHub 요약 매뉴얼\n",
    "\n",
    "프로젝트에 기여하는 방법에 대한 매뉴얼입니다."
   ]
  },
  {
   "cell_type": "markdown",
   "metadata": {},
   "source": [
    "* GitHub Desktop 을 사용하여 프로젝트 기여하기 (관리 권한이 없는 경우)\n",
    "  1. 프로젝트에 `Fork` 하기\n",
    "  2. 프로젝트를 로컬 저장소에 저장하기 `Clone or download` - `Open in Desktop`\n",
    "  3. 로컬 저장소 내에서 파일 수정, 추가, 삭제하기\n",
    "  4. GitHub Desktop 에서 `Commit to master` 로 커밋하기\n",
    "  5. GitHub Desktop 에서 `Push Origin` 으로 푸시하기\n",
    "  6. GitHub.com 에서 `Pull request` 로 요청하기\n",
    "\n",
    "\n",
    "* GitHub.com 에서 프로젝트에 기여하기 (관리 권한이 없는 경우)\n",
    "  1. 프로젝트에 `Fork` 하기\n",
    "  2. 리모트 저장소에서 `Upload files` - `choose your files` - `commit changes` 로 파일 올리기(이미 있는 파일은 덮어쓰기 함)\n",
    "  3. 리모트 저장소에서 `New pull request` 로 요청하기\n",
    "\n",
    "\n",
    "* GItHub Desktop을 사용하여 프로젝트 기여하기 (관리 권한이 있는 경우)\n",
    "  1. 프로젝트를 로컬 저장소에 저장하기 `Clone or download` - `Open in Desktop`\n",
    "  2. 로컬 저장소 내에서 파일 수정, 추가, 삭제하기\n",
    "  3. GitHub Desktop 에서 `Commit to master` 로 커밋하기\n",
    "  4. GitHub Desktop 에서 `Push Origin` 으로 푸시하기\n",
    "\n",
    "\n",
    "* GitHub.com 에서 프로젝트에 기여하기 (관리 권한이 있는 경우)\n",
    "  1. 리모트 저장소에서 `Upload files` - `choose your files` - `commit changes` 로 파일 올리기(이미 있는 파일은 덮어쓰기 함)"
   ]
  },
  {
   "cell_type": "markdown",
   "metadata": {},
   "source": [
    "자주 묻는 질문\n",
    "\n",
    "* GitHub Desktop `Authentication failed` 관련 오류\n",
    "  * 저장소에 대한 커밋 권한이 없을 때 생기는 오류입니다.\n",
    "  * 로컬 저장소에 있는 저장소가 Fork 한 저장소를 Clone 한 것인지 원본 프로젝트 저장소를 Clone 한 것인지 확인해주세요.\n",
    "  * 원본 프로젝트 저장소에 커밋 권한이 없을 경우 Clone 은 가능하지만 커밋할 때 이와 같은 오류가 발생합니다.\n",
    "\n",
    "\n",
    "* Fork 한 저장소 업데이트 하기\n",
    "  * Fork 를 다시 누른다고 해서 저장소가 원본 프로젝트를 따라서 업데이트 되지는 않습니다.\n",
    "  * Fork 한 저장소를 지운 뒤에 다시 Fork 해와야 합니다.\n",
    "  * Fork 한 저장소에서 `Settings` 에 들어가 최 하단에 있는 `Delete this repository` 를 누르고 지우려는 저장소 이름을 입력하면 저장소가 삭제됩니다.\n",
    "  * 삭제한 저장소는 복구할 수 없습니다.\n",
    "\n",
    "\n",
    "* Push 를 했는데 Pull request 에 반영되지 않음\n",
    "  * Push 는 로컬 저장소에 커밋된 사항을 리모트 저장소(github 서버)에 적용시키는 과정입니다.\n",
    "  * Pull request 를 위해서는 github.com 에서 `New pull request`를 눌러야 하며 Github Desktop 에서 `Branch - Create pull request` 혹은 `Ctrl + R` 을 누르면 자동으로 github.com Pull request 화면에 안내해줍니다.\n",
    "  \n",
    "\n"
   ]
  },
  {
   "cell_type": "markdown",
   "metadata": {},
   "source": [
    "Q&A\n",
    "\n",
    "* 가입하기에서 `Verify account` 아래에 아무런 내용도 뜨지 않아요.\n",
    "  * 사용하시는 인터넷 프로그램을 Chrome과 같은 다른 프로그램으로 바꿔보세요.\n",
    "\n",
    "\n",
    "* 가입을 하고 나서 GitHub를 이용하려는데 `404 This is not the web page you are looking for.` 라고 오류메시지가 떠요.\n",
    "  * 들어가려는 링크가 잘못 되었거나 (보통 저장소의 링크는 `github.com/<사용자명>/<프로젝트명>` 입니다. 프로젝트명이 바뀌었을 수도 있으므로 확인해주세요.) 이메일로 인증을 하지 않은 경우 일부 기능이 사용 불가능하여 오류가 발생했을 수도 있습니다.\n",
    "  \n",
    "  \n",
    "* 리모트 저장소의 이름을 바꾸거나 삭제하거나 비공개로 바꾸고 싶습니다.\n",
    "  * 해당 저장소의 `Settings` 에서 다룰 수 있습니다. 삭제나 비공개의 경우는 맨 아래에 빨간 테두리가 있는 상자에서 작업하실 수 있습니다.\n",
    "  \n",
    "  \n",
    "* Fork 하지 않고 원본 프로젝트를 Clone 하면 어떻게 되나요?\n",
    "  * Clone해서 수정하고 커밋하기 까지 가능하지만 프로젝트 관리 권한이 없다면 `Push Origin`에서 오류가 생기므로 원본 프로젝트에 수정한 내용을 반영할 수 없습니다. 프로젝트 관리 권한이 없는 경우는 꼭 `Fork` 하고 나서 Clone 하여 작업해야 합니다.\n",
    "  \n",
    "\n",
    "* 로컬 저장소와 리모트 저장소의 차이는 뭔가요?\n",
    "  * 로컬 저장소는 사용자의 컴퓨터 디스크에 있는 저장소이며 리모트 저장소는 GitHub.com 처럼 온라인에 있는 저장소 입니다.\n",
    "  \n",
    "\n",
    "* GitHub Desktop 프로그램을 사용할 때 장단점은 무엇이 있나요?\n",
    "  * GitHub Desktop 을 사용하면 `Clone: 리모트 저장소 -> 로컬 저장소`과 `Push: 로컬 저장소 -> 리모트 저장소` 로 파일을 옮기는 과정이 추가되어 번거로울 수 있습니다. 대신 여러 폴더를 한꺼번에 옮길 수 있으며 여러 개의 파일을 지우거나 이름을 수정할 때도 편리합니다. 또한 GitHub Desktop 에서 로컬 디스크에 있는 파일의 수정 내역을 커밋하기 전에 비교해서 볼 수 있기 때문에 작업 과정에 있어서 편리합니다. \n",
    "  * 약간의 수정만 필요할 경우는 `GitHub.com 리모트 저장소`에서 바로 처리 하는 방법(`매뉴얼2, 4`)을 추천하며 한 번에 여러 폴더를 바꾸거나 파일 이름의 수정, 삭제 등 작업을 할 때는 `GitHub Desktop` 을 사용하는 방법(`매뉴얼1, 3`)을 추천합니다.\n",
    "  \n",
    "\n",
    "* GitHub 의 용량 제한은 어떻게 되나요?\n",
    "  * GitHub 에서 용량 제한이 실질적으로 정해져 있지는 않지만 Clone 과 같은 작업을 위해서 Git 에서는 1GB 정도로 권장을 하고 있습니다. 또한 파일 개개 용량은 100MB를 넘어선 안되며 50MB가 넘어가면 Git에서 경고합니다. 100MB가 넘는 거대한 파일은 다른 방법으로 올려야 합니다.\n",
    "  \n",
    "  \n",
    "* 협업자에게 저장소의 특정 디렉토리에 대한 권한만 줄 수 있나요?\n",
    "  * GitHub에서는 프로젝트 소유자/협업자 두 등급으로만 프로젝트 관리에 대한 권한을 구별하기 때문에 특정 디렉토리만을 관리할 수 있도록 하는 등급은 존재하지 않습니다. GitHub 관리자는 각자의 권한을 나누고 싶다면 저장소를 4개 분할하여 만들어야 한다고 조언했습니다.\n",
    "  \n",
    "\n",
    "* GitHub Desktop 에서 `Authentication failed.` 오류 메시지가 뜨는 이유는 무엇인가요?\n",
    "  * `Push Origin` 하려는 리모트 저장소에 대한 관리 권한이 없는 경우 권한 오류가 뜰 수 있습니다. `Clone` 할 때 관리 권한을 가지고 있는 저장소로 했는지 확인이 필요합니다.\n",
    "  * 관리 권한이 없는 저장소를 수정하여 프로젝트에 기여하고 싶을 때는 `Fork` 한 저장소를 `Clone` 하여 `Pull request` 하는 과정을 진행해주시기 바랍니다.\n",
    "\n",
    "\n",
    "* 프로젝트 저장소가 삭제 되었을 때 Fork 한 저장소는 남아있나요?\n",
    "  * 원본 프로젝트 저장소가 삭제된 경우 Fork 한 저장소는 그대로 남아있으며 원래는 Fork 기호로 떴던 저장소가 프로젝트 소유자 기호로 바뀝니다. 원본 저장소가 사라졌기 때문에 Forked from <user><repository> 는 사라집니다."
   ]
  },
  {
   "cell_type": "markdown",
   "metadata": {},
   "source": [
    " "
   ]
  }
 ],
 "metadata": {
  "kernelspec": {
   "display_name": "Python 3",
   "language": "python",
   "name": "python3"
  },
  "language_info": {
   "codemirror_mode": {
    "name": "ipython",
    "version": 3
   },
   "file_extension": ".py",
   "mimetype": "text/x-python",
   "name": "python",
   "nbconvert_exporter": "python",
   "pygments_lexer": "ipython3",
   "version": "3.6.5"
  }
 },
 "nbformat": 4,
 "nbformat_minor": 2
}
