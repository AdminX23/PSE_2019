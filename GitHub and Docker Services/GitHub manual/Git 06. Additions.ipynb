{
 "cells": [
  {
   "cell_type": "markdown",
   "metadata": {},
   "source": [
    "# Additions"
   ]
  },
  {
   "cell_type": "markdown",
   "metadata": {},
   "source": [
    "## 1. 브랜치 별로 이메일 알림설정 가능한가?\n",
    "\n",
    "### * 불가능\n",
    "\n",
    "![Pull&Push](fig 06/fig6-1.png)\n",
    "\n",
    "![Pull&Push](fig 06/fig6-2.png)"
   ]
  },
  {
   "cell_type": "markdown",
   "metadata": {},
   "source": [
    "## 2. 브랜치에서 브랜치를 만들 수 있는가?\n",
    "\n",
    "### * 가능\n",
    "\n",
    "![Pull&Push](fig 06/fig6-7.png)\n",
    "\n",
    "![Pull&Push](fig 06/fig6-3.png)\n",
    "* delete e\n",
    "\n",
    "![Pull&Push](fig 06/fig6-4.png)\n",
    "\n",
    "![Pull&Push](fig 06/fig6-5.png)\n",
    "\n",
    "![Pull&Push](fig 06/fig6-6.png)\n",
    "\n",
    "* master가 아닌 first브랜치와 똑같은 내용의 새로운 branch가 생성됨\n",
    "\n",
    "![Pull&Push](fig 06/fig6-7.png)\n",
    "\n",
    "![Pull&Push](fig 06/fig6-8.png)\n",
    "* first-1 브랜치의 내용을 변경하고 pull request하면\n",
    "![Pull&Push](fig 06/fig6-9.png)\n",
    "* merge할 브랜치를 설정할 수 있음\n",
    "* 기본으로는 base가 master로 설정되어 있음"
   ]
  },
  {
   "attachments": {},
   "cell_type": "markdown",
   "metadata": {},
   "source": [
    "## 3. 포크한 저장소를 또 포크를 할 수 있는가? \n",
    "\n",
    "### * 불가능\n",
    "\n",
    "![Pull&Push](fig 06/fig6-10.png)\n",
    "\n",
    "![Pull&Push](fig 06/fig6-11.png)\n",
    "\n",
    "* 다른 사용자가 pork한 저장소를 pork하면 원본 저장소가 pork됨 \n",
    "* 내가 이미 원본을 pork 해놓은 저장소이므로 pork 후 내 저장소 목록에는 변화가 없음"
   ]
  },
  {
   "cell_type": "code",
   "execution_count": null,
   "metadata": {
    "collapsed": true
   },
   "outputs": [],
   "source": []
  }
 ],
 "metadata": {
  "kernelspec": {
   "display_name": "Python 3",
   "language": "python",
   "name": "python3"
  },
  "language_info": {
   "codemirror_mode": {
    "name": "ipython",
    "version": 3
   },
   "file_extension": ".py",
   "mimetype": "text/x-python",
   "name": "python",
   "nbconvert_exporter": "python",
   "pygments_lexer": "ipython3",
   "version": "3.6.1"
  }
 },
 "nbformat": 4,
 "nbformat_minor": 2
}
