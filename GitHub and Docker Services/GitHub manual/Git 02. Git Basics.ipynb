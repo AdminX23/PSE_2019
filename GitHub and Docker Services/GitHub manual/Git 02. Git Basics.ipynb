{
 "cells": [
  {
   "cell_type": "markdown",
   "metadata": {},
   "source": [
    "# 02. Git Basics\n",
    "\n",
    "\n",
    "다룰 내용\n",
    "* 저장소를 만들고 설정하는 방법\n",
    "* 파일을 추적하거나 추적을 그만두는 방법\n",
    "* 변경 내용을 Stage 하고 커밋하는 방법\n",
    "* 파일이나 파일 패턴을 무시하도록 Git을 설정하는 방법\n",
    "* 실수를 쉽고 빠르게 만회하는 방법\n",
    "* 프로젝트 히스토리를 조회하고 커밋을 비교하는 방법\n",
    "* 리모트 저장소에 Push 하고 Pull 하는 방법\n",
    "<br><br>"
   ]
  },
  {
   "cell_type": "markdown",
   "metadata": {},
   "source": [
    "목차\n",
    "\n",
    "1. [Git 저장소 만들기](#1.-Git-저장소-만들기)"
   ]
  },
  {
   "cell_type": "markdown",
   "metadata": {},
   "source": [
    "## 1. Git 저장소 만들기\n",
    "\n",
    "\n",
    "1. 로컬 디렉토리를 Git 저장소로 만들기(Publish)\n",
    "2. 온라인에 있는 Git 저장소를 복사 하기(Clone)\n",
    "![저장소 만들기](fig 02/fig2-1.png)\n",
    "\n",
    "Publish/Clone 두 가지 원리로 GitHub Desktop을 통해 Git 저장소를 만들 수 있다.\n",
    "\n",
    "![GitHub Desktop으로 저장소 만들기](fig 02/fig2-2.png)\n",
    "\n",
    "\n",
    " * `Your repositories` GitHub 계정에 등록되어 있는 저장소를 Clone 할 수 있다.\n",
    "![나의 저장소](fig 02/fig2-3.png)\n",
    "\n",
    "\n",
    " * `Clone a repository from the Internet...` 인터넷 상의 저장소에서 받아온 링크를 통해 해당 저장소를 Clone 할 수 있다. `URL`에서는 GitHub 사이트 상의 링크(사용자명/프로젝트명)을 입력하면 손쉽게 Clone할 수 있다. `GitHub.com`에서는 GitHub Desktop을 로그인한 계정의 저장소를 선택하여 불러올 수 있으며 위에 있는 `Your repositories`와 비슷하다.\n",
    "![리모트 저장소 Clone](fig 02/fig2-4.png)\n",
    "\n",
    "\n",
    " * `Create a New Repository on your hard drive...` 새로운 저장소를 로컬 디렉토리 상에 만들 수 있다. 만든 후에 `Publish`를 하면 인터넷 상에 저장소가 등록된다.\n",
    "![새로운 로컬 저장소](fig 02/fig2-5.png)\n",
    "\n",
    "\n",
    " * `Add an Existing Repository from your hard drive...` 로컬 디렉토리 상에 이미 존재하는 폴더를 저장소로 만들 수 있다. 만든 후에 `Publish`를 하면 인터넷 상에 저장소가 등록된다.\n",
    "![기존의 로컬 저장소](fig 02/fig2-6.png)\n",
    "\n",
    "\n",
    " * GitHub.com 사이트에서 맘에드는 저장소를 손쉽게 Clone 할 수 있다.\n",
    " `Clone or download`-`Open in Desktop`(첫 실행 시 열기 위한 프로그램을 선택해야 하며, GitHub Desktop을 지정하여야 한다.)\n",
    "![사이트에서 Clone 하기1](fig 02/fig2-7.png)\n",
    "![사이트에서 Clone 하기2](fig 02/fig2-8.png)\n",
    "\n",
    "\n",
    " * 여러가지 방법으로 Clone 하면 아래와 같은 화면을 볼 수 있다.\n",
    "![Clone 과정1](fig 02/fig2-9.png)\n",
    "![Clone 과정2](fig 02/fig2-10.png)\n",
    "\n",
    "\n",
    "<br>"
   ]
  },
  {
   "cell_type": "markdown",
   "metadata": {},
   "source": [
    "## 2. 수정하고 저장소에 저장하기\n",
    "\n",
    "파일을 수정하고 파일의 스냅샷을 커밋하기\n",
    "\n",
    "* 파일의 세 가지 상태 (복습)\n",
    " * Committed: 데이터가 로컬 데이터베이스에 안전하게 저장됨\n",
    " * Modified: 수정한 파일을 아직 커밋하지 않은 상태\n",
    " * Staged: 현재 수정한 파일을 곧 커밋할 것이라고 표시한 상태\n",
    "<br>\n",
    "![파일의 세 가지 상태](fig 01/fig1-6.png)\n",
    "<center>워킹 트리, Staging Area, Git 디렉토리</center>\n",
    "<br>\n",
    "\n",
    "* 워킹 디렉토리의 파일은 Tracked(관리대상임) Untracked(관리대상이 아님) 으로 나눔\n",
    "* Tracked 파일은 이미 스냅샷에 포함되어 있던 파일이며 Unmodified(수정하지 않음)와 Modified(수정함) 그리고 Staged(커밋으로 저장소에 기록할 상태) 으로 나눔\n",
    "* Untracked 파일은 워킹 디렉토리에 있는 파일 중 스냅샷, Staging Area 어디에도 포함되지 않은 파일임\n",
    "* 처음 저장소를 Clone 하면 모든 파일은 Tracked - Unmodified 상태(Checkout 이후 수정하지 않았으므로)\n",
    "* 커밋 이후 파일을 처음으로 수정하면 Git은 그 파일을 Modified로 인식함\n",
    "* 커밋을 하기 위해서는 이러한 Modified 파일을 Staged 상태로 만든 뒤에 Staged 상태인 파일을 커밋함\n",
    "\n",
    "![파일의 라이프사이클](fig 02/fig2-100.png)\n",
    "<center>파일의 라이프사이클</center>\n",
    "<br>\n",
    "\n",
    "* 파일의 상태 확인하기\n",
    "\n",
    "\n",
    "* 변경사항 커밋하기\n",
    "\n"
   ]
  },
  {
   "cell_type": "markdown",
   "metadata": {},
   "source": [
    "## 3. 커밋 히스토리 조회하기\n",
    "\n"
   ]
  },
  {
   "cell_type": "markdown",
   "metadata": {},
   "source": [
    "## 4. 되돌리기"
   ]
  },
  {
   "cell_type": "markdown",
   "metadata": {},
   "source": [
    "## 5. 리모트 저장소\n",
    "\n",
    "* 리모트 저장소\n",
    "\n",
    "* Pull과 Fetch\n",
    "\n",
    "* Push\n",
    "\n"
   ]
  },
  {
   "cell_type": "markdown",
   "metadata": {},
   "source": [
    "## 6. 결론\n"
   ]
  },
  {
   "cell_type": "code",
   "execution_count": null,
   "metadata": {},
   "outputs": [],
   "source": []
  }
 ],
 "metadata": {
  "kernelspec": {
   "display_name": "Python 3",
   "language": "python",
   "name": "python3"
  },
  "language_info": {
   "codemirror_mode": {
    "name": "ipython",
    "version": 3
   },
   "file_extension": ".py",
   "mimetype": "text/x-python",
   "name": "python",
   "nbconvert_exporter": "python",
   "pygments_lexer": "ipython3",
   "version": "3.6.5"
  }
 },
 "nbformat": 4,
 "nbformat_minor": 2
}
