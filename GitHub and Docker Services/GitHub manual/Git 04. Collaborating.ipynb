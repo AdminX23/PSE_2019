{
 "cells": [
  {
   "cell_type": "markdown",
   "metadata": {},
   "source": [
    "# 04. Collaborating\n",
    "\n",
    "\n",
    "다룰 내용\n",
    "* 협업하는 과정에서 일어나는 일들의 case study"
   ]
  },
  {
   "cell_type": "markdown",
   "metadata": {},
   "source": [
    "목차\n",
    "\n",
    "1. [Fork - Pull request Test](#1.-Fork---Pull-request-Test)"
   ]
  },
  {
   "cell_type": "markdown",
   "metadata": {},
   "source": [
    "## 1. Fork - Pull request Test\n",
    "\n",
    "* Project Alpha 를 커밋 권한이 없는 두 명의 User A, B가 `Fork - Commit - Pull request` 하였다.\n",
    "* 가정1: A가 파일을 삭제한 뒤 Merge 되면 B의 Pull request 를 받아들일 수 없을 것이다.\n",
    "* 가정에 따라 설계한 실험\n",
    "![Pull request test](fig 04/fig4-1.png)\n",
    "<center>실험 개요</center><br>\n",
    "\n",
    "  1. A와 B가 Alpha를 Fork 한 다음에 위의 개요에 맞게 파일을 수정하여 커밋하였다.\n",
    "![commit](fig 04/fig4-2.png)\n",
    "<center>A, B의 Commit</center><br>\n",
    "\n",
    "  2. A와 B가 Pull request 하였다.\n",
    "![pull request](fig 04/fig4-3.png)\n",
    "<center>A, B의 Pull request</center><br>\n",
    "\n",
    "  3. A의 Pull request 를 Merge 하고 나면 B의 Pull request 를 Merge 할 수 없다.\n",
    "![merge](fig 04/fig4-4.png)\n",
    "<center>Merge</center><br>\n",
    "\n",
    "  4. 결론: A가 파일을 삭제함으로 인하여 B의 Pull request 는 오류를 가지게 된다. (가정에 부합함)\n",
    "  \n",
    "<br>\n",
    "* 가정2: A가 파일을 수정한 뒤 Merge 되면 B의 Pull request 를 받아들일 수 있을 것이다.\n",
    "* 가정에 따라 설계한 실험\n",
    "![Pull request test](fig 04/fig4-5.png)\n",
    "<center>실험 개요</center><br>\n",
    "\n",
    "  1. A와 B가 Alpha를 Fork 한 다음에 위의 개요에 맞게 파일을 수정하여 커밋하였다.\n",
    "  2. A와 B가 Pull request 하였다.\n",
    "![pull request](fig 04/fig4-6.png)\n",
    "<center>A, B의 Pull request</center><br>\n",
    "\n",
    "  3. A의 Pull request 를 Merge 하고 나면 B의 Pull request 를 Merge 할 수 없다.\n",
    "![merge](fig 04/fig4-7.png)\n",
    "<center>Merge</center><br>\n",
    "\n",
    "  4. 결론: A가 파일을 수정함으로 인하여 B의 Pull request 는 오류를 가지게 된다. (가정에 부합하지 않음)\n",
    "\n",
    "\n",
    "* 가정3: A가 파일을 추가한 뒤 Merge 되면 B의 Pull request 를 받아들일 수 있을 것이다.\n",
    "![Pull request test](fig 04/fig4-8.png)\n",
    "<center>실험 개요</center><br>\n",
    "\n",
    "  1. A와 B가 Alpha를 Fork 한 다음에 위의 개요에 맞게 파일을 수정하여 커밋하였다.\n",
    "  2. A와 B가 Pull request 하였다.\n",
    "  3. A의 Pull request 를 Merge 하고 나면 B의 Pull request 를 Merge 할 수 있다.\n",
    "![merge](fig 04/fig4-9.png)\n",
    "<center>Merge</center><br>\n",
    "\n",
    "  4. 결론: A가 파일을 추가하더라도 B의 Pull request 는 오류가 없다. (가정에 부합함)\n",
    "\n",
    "\n",
    "* 가정4: GitHub Desktop 이 아니라 github.com 에서 동일한 실험을 했을 때 같은 결과가 나올 것이다.\n",
    "  1. 가정2를 실험한 경우: 같은 결과를 보였다. (Merge 불가능)\n",
    "  2. 가정3을 실험한 경우: 같은 결과를 보였다. (Merge 가능)\n",
    "  3. 결론: GitHub Desktop 에서 커밋 후 푸시를 하거나 github.com 에서 직접 커밋하는 경우 모두 동일한 결과를 보인다.\n",
    "\n",
    "\n",
    "* 가정5: A가 Pull request 하는 것 대신 프로젝트 소유자가 A의 커밋 내용을 동일하게 실험했을 때 같은 결과가 나올 것이다.\n",
    "![Pull request test](fig 04/fig4-10.png)\n",
    "<center>실험 개요(가정2를 실험한 경우)</center><br>\n",
    "![Pull request test](fig 04/fig4-11.png)\n",
    "<center>실험 개요(가정3을 실험한 경우)</center><br>\n",
    "  1. 가정2를 실험한 경우: 같은 결과를 보였다. (Merge 불가능)\n",
    "  2. 가정3을 실험한 경우: 같은 결과를 보였다. (Merge 가능)\n",
    "\n",
    "\n",
    "* Fork - Pull request Test\n",
    "  * Fork 하여 Pull request 하는 협업의 경우 같은 파일을 다룰 때 충돌이 발생할 수 있다.\n",
    "  * Merge 는 원본 프로젝트 저장소(상태 a)와 Fork 저장소 사이의 차이점(상태 a->b 의 차이)을 비교하여 진행한다.\n",
    "  * 그러나 원본 프로젝트 저장소(상태 c)와 Fork 저장소 사이의 차이점(상태 a->b 의 차이)을 비교할 때 상태 a와 c는 같지 않으므로 오류가 생기게 된다.\n",
    "  * 따라서 원본 프로젝트에서 특정 파일을 Pull request - Merge 하기 위해서는 해당 파일의 최신 버젼을 Fork 한 상태여야 한다.\n",
    "\n",
    "\n",
    "![Pull request test 1](fig 04/fig4-12.png)\n",
    "<center>첫 번째 실험</center><br>\n",
    "![Pull request test 2](fig 04/fig4-13.png)\n",
    "<center>두 번째 실험</center><br>\n",
    "![Pull request test 3](fig 04/fig4-14.png)\n",
    "<center>세 번째 실험</center><br>\n",
    "![Pull request test 5](fig 04/fig4-15.png)\n",
    "<center>다섯 번째 실험 - 1</center><br>\n",
    "![Pull request test 5](fig 04/fig4-16.png)\n",
    "<center>다섯 번째 실험 - 2</center><br>\n"
   ]
  },
  {
   "cell_type": "markdown",
   "metadata": {},
   "source": [
    "## 2. Commit Test\n",
    "\n",
    "* Project Beta 를 커밋 권한이 있는 두 명의 User A, B가 커밋하였다.\n",
    "* "
   ]
  },
  {
   "cell_type": "markdown",
   "metadata": {},
   "source": [
    "참조\n"
   ]
  }
 ],
 "metadata": {
  "kernelspec": {
   "display_name": "Python 3",
   "language": "python",
   "name": "python3"
  },
  "language_info": {
   "codemirror_mode": {
    "name": "ipython",
    "version": 3
   },
   "file_extension": ".py",
   "mimetype": "text/x-python",
   "name": "python",
   "nbconvert_exporter": "python",
   "pygments_lexer": "ipython3",
   "version": "3.6.5"
  }
 },
 "nbformat": 4,
 "nbformat_minor": 2
}
