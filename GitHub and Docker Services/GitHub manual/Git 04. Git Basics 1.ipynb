{
 "cells": [
  {
   "cell_type": "markdown",
   "metadata": {},
   "source": [
    "# 04. Git Basics 1\n",
    "\n",
    "다룰 내용: 리모트 저장소, 브랜치의 의미, 기초, 워크플로우, 리베이스\n",
    "\n",
    "* 파일이나 파일 패턴을 무시하도록 Git을 설정하는 방법\n",
    "* 리모트 저장소에 Push 하고 Pull 하는 방법\n",
    "* Git 저장소 관리하기"
   ]
  },
  {
   "cell_type": "markdown",
   "metadata": {},
   "source": [
    "목차\n"
   ]
  },
  {
   "cell_type": "markdown",
   "metadata": {},
   "source": [
    "## 1. 리모트 저장소\n",
    "\n",
    "* 리모트 저장소\n",
    "\n",
    "* Pull과 Fetch\n",
    "\n",
    "* Push\n",
    "\n"
   ]
  },
  {
   "cell_type": "markdown",
   "metadata": {},
   "source": [
    "## 5. .gitignore 사용하기\n",
    "\n",
    " * https://nesoy.github.io/articles/2017-01/Git-Ignore 에서 .gitignore에 대한 설명을 볼 수 있다."
   ]
  },
  {
   "cell_type": "code",
   "execution_count": null,
   "metadata": {},
   "outputs": [],
   "source": []
  }
 ],
 "metadata": {
  "kernelspec": {
   "display_name": "Python 3",
   "language": "python",
   "name": "python3"
  },
  "language_info": {
   "codemirror_mode": {
    "name": "ipython",
    "version": 3
   },
   "file_extension": ".py",
   "mimetype": "text/x-python",
   "name": "python",
   "nbconvert_exporter": "python",
   "pygments_lexer": "ipython3",
   "version": "3.6.5"
  }
 },
 "nbformat": 4,
 "nbformat_minor": 2
}
