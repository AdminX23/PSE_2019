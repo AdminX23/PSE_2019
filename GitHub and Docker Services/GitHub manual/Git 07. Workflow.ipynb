{
 "cells": [
  {
   "cell_type": "markdown",
   "metadata": {},
   "source": [
    "# 07. Git Workflow\n",
    "\n",
    "다룰 내용: 워크플로\n",
    "\n",
    "* 파일이나 파일 패턴을 무시하도록 Git을 설정하는 방법\n",
    "* Git 저장소 관리하기"
   ]
  },
  {
   "cell_type": "markdown",
   "metadata": {},
   "source": [
    "목차\n",
    "1. [중앙 집중 환경에서의 워크플로](#1.-중앙-집중-환경에서의-워크플로)\n",
    "2. [분산 환경에서의 워크플로](#2.-분산-환경에서의-워크플로)\n",
    "3. [프로젝트에 기여하기](#3.-프로젝트에-기여하기)\n",
    "4. [.gitignore 사용하기](#4.-.gitignore-사용하기)"
   ]
  },
  {
   "cell_type": "markdown",
   "metadata": {},
   "source": [
    "## 1. 중앙 집중 환경에서의 워크플로\n",
    "\n",
    "\n",
    "* 중앙집중형 버전관리 시스템에서 각 개발자는 중앙 저장소를 중심으로 하는 한 노드에 불과하다.\n",
    "![분산 버전 관리](fig 07/fig7-1.png)\n",
    "<center>분산 버전 관리 시스템</center>\n",
    "<br>\n",
    "* 워크플로는 중앙집중식 협업 모델 한 가지 방식밖에 없다.\n",
    "* 개발자는 중앙 저장소를 중심으로 작업한다.\n",
    "![중앙집중식 워크플로](fig 07/fig7-2.png)\n",
    "<center>중앙집중식 워크플로</center>\n",
    "<br>\n",
    "* Push 하기 전에 이전 개발자가 작업한 내용을 Merge 해야 덮어쓰지 않을 수 있다.\n",
    "* Git 에서도 이런 워크플로를 사용할 수 있다.\n",
    "* 현재 랩실에서 사용하는 모델과 같다."
   ]
  },
  {
   "cell_type": "markdown",
   "metadata": {},
   "source": [
    "## 2. 분산 환경에서의 워크플로\n",
    "\n",
    "### 2-1. Integration-Manager 워크플로\n",
    "\n",
    "* Git을 사용하면 리모트 저장소를 여러 개 운영할 수 있다.\n",
    "* Fork - Pull request 모델에서 다른 개발자는 읽기만 가능하게 만들 수 있다.\n",
    "* 프로젝트에 기여하기 위해서 공식 저장소를 하나 Clone 하고 자신의 저장소에 Push 한 뒤 프로젝트 Integration-Manager 에게 Pull request 한다.\n",
    "* Integration-Manager workflow\n",
    "![Intergration-manager workflow](fig 07/fig7-3.png)\n",
    "<center>Intergration-manager workflow</center>\n",
    "<br>\n",
    "  1. 프로젝트 Integration-Manager는 프로젝트 메인 저장소에 Push를 한다.\n",
    "  2. 프로젝트 기여자는 메인 저장소를 Clone 하고 수정한다.\n",
    "  3. 기여자는 자신의 저장소에 Push 하고 Integration-Manager가 접근할 수 있도록 공개해 놓는다.\n",
    "  4. 기여자는 Integration-Manager에게 변경사항을 적용해 줄 것을 이메일로 요청한다.\n",
    "  5. Integration-Manager는 기여자의 저장소를 리모트 저장소로 등록하고 수정사항을 Merge 하여 테스트한다.\n",
    "  6. Integration-Manager는 Merge 한 사항을 메인 저장소에 Push 한다.\n",
    "  \n",
    "* GitHub나 GitLab 같은 Hub 사이트를 통해 주로 사용하는 방식이다.\n",
    "* 프로젝트를 Fork 하고 수정사항을 반영하여 다시 모두에게 공개하기 좋은 구조로 돼 있다.\n",
    "* 기여자와 Integration-Manager가 각자의 사정에 맞춰 프로젝트를 유지할 수 있다.\n",
    "* 기여자는 자신의 저장소와 브랜치에서 수정 작업을 계속해 나갈 수 있고 수정사항이 프로젝트에 반영되도록 기다릴 필요가 없다.\n",
    "* 관리자는 여유를 가지고 기여자가 Push 해 놓은 커밋을 적절한 시점에 Merge 한다.\n",
    "\n",
    "\n",
    "### 2-2. Dictator and Lieutenants 워크플로\n",
    "\n",
    "* 저장소를 여러개 운영하는 방식을 변형한 구조이다.\n",
    "* 수백 명의 많은 개발자가 참여하는 아주 큰 프로젝트를 운영할 때 사용하는 방식이다. (Linux 커널 프로젝트 등)\n",
    "* 여러 명의 Integration-Manager가 저장소에서 자신이 맡은 부분만을 담당하고, Lieutenants 라고 부른다.\n",
    "* 모든 Lieutenant는 Benevolent Dictator라는 최종 관리자 아래에 속한다.\n",
    "* Benevolent Dictator는 Lieutenant의 저장소를 가져와 공식 저장소에 Push 하고 모든 프로젝트 참여자는 이 공식 저장소에서 반드시 Pull 해야 한다.\n",
    "![Benevolent dictator workflow](fig 07/fig7-4.png)\n",
    "<center>Intergration-manager workflow</center>\n",
    "<br>\n",
    "  1. 개발자는 코드를 수정하고 `master` 브랜치를 기준으로 자신의 토픽 브랜치를 Rebase 한다.\n",
    "  2. Lieutenant들은 개발자들의 수정사항을 자신이 관리하는 `master` 브랜치에 Merge 한다.\n",
    "  3. Dictator는 Lieutenant의` master` 브랜치를 자신의 `master` 브랜치로 Merge 한다.\n",
    "  4. Dictator는 자신의 `master` 브랜치를 Push 하며 다른 모든 개발자는 Dictator의 `master` 브랜치를 기준으로 Rebase 한다.\n",
    "\n",
    "* 깊은 계층 구조를 가지는 환경이나 규모가 큰 프로젝트에서는 매우 쓸모 있는 방식이다.\n",
    "* 프로젝트 리더가 모든 코드를 통합하기 전에 코드를 부분부분 통합하도록 여러 명의 Lieutenant에게 위임한다.\n",
    "\n",
    "\n",
    "### 2-3. 요약\n",
    "\n",
    "* Git 에서는 중앙집중식, Integration-Manager, Benevolent dictator 세 가지 워크플로를 사용한다.\n",
    "* 실제로는 이를 응용한 변종 워크플로도 많이 사용되며, 운영 규모나 방식에 따라 적합하게 사용하면 된다."
   ]
  },
  {
   "cell_type": "markdown",
   "metadata": {},
   "source": [
    "## 3. 프로젝트에 기여하기\n",
    "\n",
    "* Git의 환경이 매우 유연하기 때문에 프로젝트에 기여하는 방식을 정하거나 설명하기에 까다롭다.\n",
    "* 프로젝트마다 환경이 다르므로 프로젝트에 기여하는 방식을 조율해야 한다.\n",
    "* 프로젝트에 기여하는 몇가지 변수가 있다.\n",
    "  1. 활발히 활동하는 개발자의 수\n",
    "     * 얼마나 많은 개발자자가 얼마나 자주 코드를 쏟아내는가\n",
    "     * 개발자가 많으면 많을수록 코드를 깔끔하게 적용하거나 Merge 하기 어려워진다.\n",
    "     * 개발자 수가 많을 때 코드가 충돌할 수도 있다.\n",
    "  2. 프로젝트에서 선택한 워크플로\n",
    "     * 중앙 집중형: 개발자 모두가 메인 저장소에 쓰기 권한을 갖고 있는지?\n",
    "     * 프로젝트에 모든 Patch를 검사하고 통합하는 관리자가 있는지?\n",
    "     * 모든 수정사항을 개발자끼리 검토하고 승인하는지?\n",
    "     * 중간 관리자가 따로 존재하는지?\n",
    "  3. 접근 권한\n",
    "     * 프로젝트에 직접 쓸 권한이 있는가?\n",
    "     * 쓰는 권한은 없고 읽기 권한만 있는가?\n",
    "     * 수정사항을 프로젝트에 반영하는 방법이 무엇인가?\n",
    "     \n",
    "* 두 사람의 프로젝트 기여 예시\n",
    "![Workflow](fig 07/fig7-5.png)\n",
    "<center>Workflow</center>\n",
    "<br>\n"
   ]
  },
  {
   "cell_type": "markdown",
   "metadata": {},
   "source": [
    "## 4. .gitignore 사용하기\n",
    "\n",
    " * `.gitignore`는 프로젝트에서 원하지 않는 파일(backup file, log file, 등)을 Git에서 자동으로 제외시킬 수 있는 설정용 파일이다.\n",
    " * 항상 최상위 Directory에 존재해야 한다.\n",
    "\n",
    " * 문법\n",
    "    1. `.a` 확장자 파일의 무시\n",
    "     * `*.a`\n",
    "    2. `.a` 확장자를 무시하지만 `lib.a`는 무시하지 않을 때 \n",
    "     * `!lib.a`\n",
    "    3. 현재 디렉토리의 `TODO` 파일만 무시하고, 다른 디렉토리의 파일인 `subdir/TODO` 는 무시하지 않을 때\n",
    "     * `/TODO`\n",
    "    4. `build/` 디렉토리의 파일을 무시할 때\n",
    "     *  `build/`\n",
    "    5. `doc/notes.txt`는 무시, `doc/server/arch.txt`는 무시하지 않을 때\n",
    "      * `doc/*.txt`\n",
    "    6. `doc/` 디렉토리 안에 있는 모든 `.pdf`를 무시할 때\n",
    "      * `doc/**/*.pdf`\n"
   ]
  },
  {
   "cell_type": "markdown",
   "metadata": {},
   "source": [
    "참조\n",
    "\n",
    "https://git-scm.com/book/ko/v2/\n",
    "\n",
    "https://nesoy.github.io/articles/2017-01/Git-Ignore"
   ]
  }
 ],
 "metadata": {
  "kernelspec": {
   "display_name": "Python 3",
   "language": "python",
   "name": "python3"
  },
  "language_info": {
   "codemirror_mode": {
    "name": "ipython",
    "version": 3
   },
   "file_extension": ".py",
   "mimetype": "text/x-python",
   "name": "python",
   "nbconvert_exporter": "python",
   "pygments_lexer": "ipython3",
   "version": "3.6.5"
  }
 },
 "nbformat": 4,
 "nbformat_minor": 2
}
