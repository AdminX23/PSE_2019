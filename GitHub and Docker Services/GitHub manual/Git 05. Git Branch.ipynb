{
 "cells": [
  {
   "cell_type": "markdown",
   "metadata": {
    "collapsed": true
   },
   "source": [
    "# Git 브랜치"
   ]
  },
  {
   "cell_type": "markdown",
   "metadata": {},
   "source": [
    "## 1. 브랜치(branch)란 무엇인가\n",
    "* GitHub에 있는 모든 것은 브랜치에 존재\n",
    "\n",
    "* 프로젝트의 표준적인 버전은 master라는 브랜치에 존재\n",
    "\n",
    "* 새로운 브랜치를 만들어서 프로젝트 수정하는 것은 원본이 아닌 복사본에서 수정하는 것과 같다. 즉, branch를 새로 만들면 처음에는 master branch와 같음\n",
    "\n",
    "* 그 이후의 변경사항은 새로운 branch에만 반영됨\n",
    "\n",
    "* 수정이 완료되면 pull request해서 master와 합칠 수 있음\n",
    "\n",
    "* 각 기능별로 작업을 분업, 분리 가능\n",
    "\n",
    "* But, 여러개의 branch가 존재할 경우 혼잡한 작업환경을 만들 수 있음.\n",
    "* 여러사람과 협업할 경우 branch간의 상관관계를 제대로 파악하지 않으면 병합할 때 충돌할 수 있음\n",
    "\n"
   ]
  },
  {
   "cell_type": "markdown",
   "metadata": {},
   "source": [
    "## 2. 새로운 브랜치(branch) 만들기\n",
    "![Pull&Push](fig 05/fig5-1.png)\n",
    "![Pull&Push](fig 05/fig5-2.png)"
   ]
  },
  {
   "cell_type": "markdown",
   "metadata": {},
   "source": [
    "## 3. 수정 후 merge하기\n",
    "![Pull&Push](fig 05/fig5-3.png)\n",
    "![Pull&Push](fig 05/fig5-4.png)\n",
    "![Pull&Push](fig 05/fig5-5.png)\n",
    "* 수정된 사항 확인 가능\n",
    "\n",
    "![Pull&Push](fig 05/fig5-6.png)\n",
    "![Pull&Push](fig 05/fig5-7.png)\n",
    "![Pull&Push](fig 05/fig5-8.png)\n",
    "* 새로운 branch의 변경사항이 master branch에 반영됨"
   ]
  },
  {
   "cell_type": "markdown",
   "metadata": {},
   "source": [
    "## 4. Merge, Squash, Rebase\n",
    "![Pull&Push](fig 05/fig5-9.png)\n",
    "\n",
    "* 각 머지방식에 따라 커밋히스토리가 달라짐"
   ]
  },
  {
   "cell_type": "markdown",
   "metadata": {},
   "source": [
    "## 5. 브랜치 워크플로(workflow)\n",
    "\n",
    "### - Topic Branch\n",
    "\n",
    "* 토픽 브랜치는 어떤 한 가지 주제나 작업을 위해 만든 짧은 호흡의 브랜치\n",
    "\n",
    "* Git에서는 매우 일상적으로 브랜치를 만들고 merge하고 삭제\n",
    "\n",
    "* 토픽 브랜치는 프로젝트 크기에 상관없이 유용\n",
    "![Pull&Push](fig 05/fig5-12.png)\n",
    "\n",
    "* iss91 branch를 만들어 작업을 하다가 같은 이슈를 다른 방법으로 해결해보고 싶어서 iss91v2라는 branch를 만들고 다른 방법을 시도해봄 \n",
    "\n",
    "* 확신할 수 없는 아이디어를 적용해보기 위해 다시 master branch로 되돌아 가서 dumbidea branch를 하나 더 만든 커밋 히스토리\n",
    "\n",
    "![image.png](fig 05/fig5-13.png)\n",
    "\n",
    "* iss91은 버리고 다른 두 브랜치를 merge함\n",
    "\n",
    "\n",
    "### - Long-Running Branch\n",
    "\n",
    " * 배포했거나 배포할 코드만 즉 안정 버전의 코드만 master branch에 둠\n",
    " \n",
    " * 개발을 진행하고 안정화하는 브랜치는 추가로 만들어 사용(그림에서의 develop branch)\n",
    " \n",
    " * 이 브랜치는 언젠가 안정 상태가 되겠지만 항상 안정상태를 유지하는 것은 아님\n",
    " \n",
    " * 테스트를 거쳐 안정적이라고 판단되면 master branch에 merge, 토픽 브랜치도 마찬가지\n",
    " \n",
    " ![image.png](fig 05/fig5-10.png)\n",
    " \n",
    " * 안정적인 브랜치일수록 커밋 히스토리가 뒤쳐짐\n",
    " \n",
    "![image.png](fig 05/fig5-11.png)\n",
    "\n",
    "* 브랜치를 이용해 여러 단계에 걸쳐서 안정화해 나가면서 충분히 안정화가 됐을 때 안정 브랜치로 merge함 \n",
    "\n",
    "* Long-Running branch가 여러 개일 필요는 없음\n",
    "\n",
    "* 규모가 크고 복잡한 프로젝트일수록 더욱 유용함\n"
   ]
  },
  {
   "cell_type": "markdown",
   "metadata": {
    "collapsed": true
   },
   "source": []
  }
 ],
 "metadata": {
  "kernelspec": {
   "display_name": "Python 3",
   "language": "python",
   "name": "python3"
  },
  "language_info": {
   "codemirror_mode": {
    "name": "ipython",
    "version": 3
   },
   "file_extension": ".py",
   "mimetype": "text/x-python",
   "name": "python",
   "nbconvert_exporter": "python",
   "pygments_lexer": "ipython3",
   "version": "3.6.1"
  }
 },
 "nbformat": 4,
 "nbformat_minor": 2
}
