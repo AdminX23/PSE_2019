{
 "cells": [
  {
   "cell_type": "markdown",
   "metadata": {
    "collapsed": true
   },
   "source": [
    "# Git 브랜치"
   ]
  },
  {
   "cell_type": "markdown",
   "metadata": {},
   "source": [
    "## 1. 브랜치(branch)란 무엇인가\n",
    "* GitHub에 있는 모든 것은 브랜치에 존재\n",
    "\n",
    "* 프로젝트의 표준적인 버전은 master라는 브랜치에 존재\n",
    "\n",
    "* 새로운 브랜치를 만들어서 프로젝트 수정하는 것은 원본이 아닌 복사본에서 수정하는 것과 같다. 즉, branch를 새로 만들면 처음에는 master branch와 같음\n",
    "\n",
    "* 그 이후의 변경사항은 새로운 branch에만 반영됨\n",
    "\n",
    "* 수정이 완료되면 pull request해서 master와 합칠 수 있음\n",
    "\n",
    "* 각 기능별로 작업을 분업, 분리 가능\n",
    "\n",
    "* But, 여러개의 branch가 존재할 경우 혼잡한 작업환경을 만들 수 있음.\n",
    "* 여러사람과 협업할 경우 branch간의 상관관계를 제대로 파악하지 않으면 병합할 때 충돌할 수 있음\n",
    "\n"
   ]
  },
  {
   "cell_type": "markdown",
   "metadata": {},
   "source": [
    "## 2. 새로운 브랜치(branch) 만들기\n",
    "![Pull&Push](fig 05/fig5-1.png)\n",
    "![Pull&Push](fig 05/fig5-2.png)"
   ]
  },
  {
   "cell_type": "markdown",
   "metadata": {},
   "source": [
    "## 3. 수정 후 merge하기\n",
    "![Pull&Push](fig 05/fig5-3.png)\n",
    "![Pull&Push](fig 05/fig5-4.png)\n",
    "![Pull&Push](fig 05/fig5-5.png)\n",
    "* 수정된 사항 확인 가능\n",
    "\n",
    "![Pull&Push](fig 05/fig5-6.png)\n",
    "![Pull&Push](fig 05/fig5-7.png)\n",
    "![Pull&Push](fig 05/fig5-8.png)\n",
    "* 새로운 branch의 변경사항이 master branch에 반영됨"
   ]
  },
  {
   "cell_type": "markdown",
   "metadata": {},
   "source": [
    "## 4. Merge, Squash, Rebase\n",
    "![Pull&Push](fig 05/fig5-9.png)\n",
    "\n",
    "* 각 머지방식에 따라 커밋히스토리가 달라짐"
   ]
  },
  {
   "cell_type": "markdown",
   "metadata": {},
   "source": [
    "## 5. 브랜치 워크플로(workflow)\n",
    "\n",
    "### - Long-Running Branch\n",
    "\n",
    "\n",
    "\n",
    "\n",
    "### - Topic Branch\n"
   ]
  },
  {
   "cell_type": "code",
   "execution_count": null,
   "metadata": {
    "collapsed": true
   },
   "outputs": [],
   "source": []
  }
 ],
 "metadata": {
  "kernelspec": {
   "display_name": "Python 3",
   "language": "python",
   "name": "python3"
  },
  "language_info": {
   "codemirror_mode": {
    "name": "ipython",
    "version": 3
   },
   "file_extension": ".py",
   "mimetype": "text/x-python",
   "name": "python",
   "nbconvert_exporter": "python",
   "pygments_lexer": "ipython3",
   "version": "3.6.1"
  }
 },
 "nbformat": 4,
 "nbformat_minor": 2
}
