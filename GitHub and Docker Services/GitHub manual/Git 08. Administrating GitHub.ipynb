{
 "cells": [
  {
   "cell_type": "markdown",
   "metadata": {},
   "source": [
    "# 08. Administrating GitHub\n",
    "\n",
    "다룰 내용: GitHub 의 차후 관리 방법과 오류 해결\n"
   ]
  },
  {
   "cell_type": "markdown",
   "metadata": {},
   "source": [
    "## 1. GitHub 오류\n",
    "\n",
    "* 4월 3일 이후로 GitHub Desktop 이용에서 이상한 오류가 생긴다는 제보 받음\n",
    "![오류](fig 08/fig8-1.png)\n",
    "![오류](fig 08/fig8-2.png)\n",
    "![오류](fig 08/fig8-3.png)\n",
    "\n",
    "* 해당 오류 경고인 `Warning: Clone succeeded, but checkout failed.` 을 검색하여 stackoverflow 등에 있는 답변을 참조하였음\n",
    "![해결방법](fig 08/fig8-4.png)\n",
    "\n",
    "* 저장소 내에 파일 이름이 .로 끝나서 윈도우즈 시스템에서 받아들이지 못하는 경우가 있는지 확인해보았으나 별다른 경우가 없었다. 혹시나 해서 .gitignore를 지워보았지만 아무런 영향이 없었다.\n",
    "* 저장소 내 용량이 너무 커서 다운로드에 오래 걸리게 되고 이로 인한 파일 오류가 생겼을 것으로도 예측해 보았으나  파일은 정상적으로 실행되었다.\n",
    "* 그러나 전체 파일용량이 너무 높기 때문에 이는 시정할 필요가 있다고 생각되었다. ZIP 다운로드를 받을 경우 161MB  라고 다운로드 창에 뜨지만 실제 GitHub Desktop 으로 파일을 받아본 결과 450MB에 이르는 것을 확인하였다. 버젼관리 때문에 수많은 로그 파일이 축적된 것으로 생각된다. 실제 200MB 이상의 용량을 가진 숨김 폴더를 확인하였다.\n",
    "* `git config --system core.longpaths true` : 긴 디렉토리에 대한 처리를 true로 바꾸는 명령어 인데 제대로 작동하지 않는 것을 확인하였다.\n",
    "\n",
    "* plasma reactor 팀의 디렉토리 및 파일 명이 매우 긴 것을 확인하였다.\n",
    "* Fork 한 뒤 긴 디렉토리의 긴 파일 이름을 가진 것들을 지운 뒤 GitHub Desktop 으로 Clone 해보았다.\n",
    "* 원래 저장소에서는 Clone 되지 않았으나 Fork한 저장소에서는 Clone이 잘 되는 것을 확인하였고, 해당 문제를 개선하도록 할 것이다.\n",
    "![해결방법](fig 08/fig8-5.png)\n",
    "\n",
    "* 문제를 해결한 뒤 오류창을 다시 확인해보았는데 중간 쯤에 파일의 이름이 너무 길다는 코멘트를 확인하였다.\n",
    "* 여러 번 GitHub Desktop 을 통해 파일을 다운로드 했는데 모두 특정 파일이 존재하지 않았다. 이는 가장 긴 디렉토리+파일 명을 가진 파일이었다.\n",
    "![원인](fig 08/fig8-6.png)\n",
    "![원인](fig 08/fig8-7.png)\n"
   ]
  },
  {
   "cell_type": "markdown",
   "metadata": {},
   "source": [
    "## 2. GitHub 관리\n",
    "\n",
    "* 현재 4개의 프로젝트를 동시 진행하고 있기 때문에 랩실의 Git 저장소는 용량이 큰 편이다.\n",
    "* 초기의 다운로드 속도에 비하여 요즘의 속도가 느린 것이 용량에 비하더라도 너무 느린것을 다들 체감하였다.\n",
    "* GitHub Desktop 으로 받은 저장소를 확인해본 결과 200MB 정도의 숨김 폴더를 발견하였으며, 이는 버전관리로부터 온 로그파일 등으로 추정된다.\n",
    "![로그파일](fig 08/fig8-8.png)\n",
    "\n",
    "* 차후 GitHub은 4개 프로젝트를 각각 진행하고 관리 권한 또한 각 프로젝트를 진행하거나 git을 관리하기 위한 사용자들만 관리할 수 있도록 하여 생길 수 있는 충돌을 방지하고 용량 또한 소분하는 방식으로 바꾸고자 한다."
   ]
  }
 ],
 "metadata": {
  "kernelspec": {
   "display_name": "Python 3",
   "language": "python",
   "name": "python3"
  },
  "language_info": {
   "codemirror_mode": {
    "name": "ipython",
    "version": 3
   },
   "file_extension": ".py",
   "mimetype": "text/x-python",
   "name": "python",
   "nbconvert_exporter": "python",
   "pygments_lexer": "ipython3",
   "version": "3.7.1"
  }
 },
 "nbformat": 4,
 "nbformat_minor": 2
}
