{
 "cells": [
  {
   "cell_type": "markdown",
   "metadata": {},
   "source": [
    "# 09. Repository Separation\n",
    "\n",
    "다룰 내용: 저장소의 과부하로 인한 주제별 저장소 분리하기"
   ]
  },
  {
   "cell_type": "markdown",
   "metadata": {},
   "source": [
    "## 1. 저장소 소유자 이전\n",
    "\n",
    "* 소유자가 바뀌면 협업자가 초기화 되는 지 알아보기 위하여, 저장소의 협업자를 2명 지정한 뒤에 저장소의 소유자를 이전하는 실험을 진행하도록 한다.\n",
    "* `Settings` - `Collaborators` - `Add collaborator` 순으로 협업자를 추가한다.\n",
    "![add collaborator](fig 09/fig9-1.png)\n",
    "* `Settings` - `Options` - 최하단 Danger zone `Transfer` 에서 프로젝트 소유자를 UserAtest에게 이전한다.\n",
    "* 프로젝트의 이름과 이전 받을 계정을 입력한다.\n",
    "* 프로젝트를 이전 받기 위한 계정에 중복된 이름의 저장소가 존재하지 않아야 한다.\n",
    "![request transferring](fig 09/fig9-2.png)\n",
    "![request transferring](fig 09/fig9-3.png)\n",
    "![request transferring](fig 09/fig9-4.png)\n",
    "* 프로젝트를 이전 받을 사용자의 이메일에서 초대 링크를 확인할 수 있다.\n",
    "![check invitation](fig 09/fig9-5.png)\n",
    "![transferred](fig 09/fig9-6.png)\n",
    "* 프로젝트 이전이 완료된 후에 협업자를 확인한다.\n",
    "![collaborator transferred](fig 09/fig9-7.png)\n",
    "* 프로젝트 권한 이전에 따른 소유자와 협업자는 다음 표와 같이 정리할 수 있다.\n",
    "![collaborator transferred](fig 09/fig9-8.png)"
   ]
  },
  {
   "cell_type": "markdown",
   "metadata": {},
   "source": [
    "## 2. 저장소 분리를 위한 저장소 생성\n",
    "\n",
    "* 현재 사용 중인 PSE2019 저장소의 용량 과부하를 분산시키기 위하여 각 주제에 맞게 저장소를 4개 생성하였다.\n",
    "* 저장소 만들기는 Git 03. GitHub 2 에 상세하게 설명되어 있으니 중략하도록 한다.\n",
    "\n",
    "![new repository](fig 09/fig9-9.png)\n",
    "![new repository](fig 09/fig9-10.png)\n",
    "![new repository](fig 09/fig9-11.png)\n",
    "* 위와 같은 과정으로 4개의 주제에 맞춰 각각의 저장소를 생성하였다.\n",
    "![new repository](fig 09/fig9-12.png)\n",
    "* 각각의 저장소에 프로젝트를 관리할 계정들을 Collaborator에 추가하였다.\n",
    "* Collaborator에 대한 내용은 위에 설명했으므로 결과만 첨부하였다.\n",
    "![new repository](fig 09/fig9-13.png)\n",
    "* 각 프로젝트를 관리할 사용자들은 관리 권한 초대를 수락하도록 한다.\n",
    "  * `https://github.com/Roidaeyoon/<Repo>/invitations`\n",
    "  * <Repo> : GDS(GitHub&Docker Services) / Pi(Super-Computing with Raspberry Pi) / SM(SMILE SMART) / PRM (Plasma Reactor Modeling)\n",
    "  * 이메일을 통해서도 초대를 수락할 수 있다.\n",
    "![invatation](fig 09/fig9-14.png)"
   ]
  }
 ],
 "metadata": {
  "kernelspec": {
   "display_name": "Python 3",
   "language": "python",
   "name": "python3"
  },
  "language_info": {
   "codemirror_mode": {
    "name": "ipython",
    "version": 3
   },
   "file_extension": ".py",
   "mimetype": "text/x-python",
   "name": "python",
   "nbconvert_exporter": "python",
   "pygments_lexer": "ipython3",
   "version": "3.6.5"
  }
 },
 "nbformat": 4,
 "nbformat_minor": 2
}
