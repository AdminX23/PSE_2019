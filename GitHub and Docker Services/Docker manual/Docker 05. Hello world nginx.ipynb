{
 "cells": [
  {
   "cell_type": "markdown",
   "metadata": {},
   "source": [
    "# Hello world nginx"
   ]
  },
  {
   "cell_type": "markdown",
   "metadata": {},
   "source": [
    "## In this tutorial, you will\n",
    "\n",
    "* Download and run a web server container\n",
    "* Explore the container's website data \n",
    "* Use Volumes to modifiy the website data\n",
    "\n",
    "2048이라는 게임을 띄워보자\n",
    "![Docker](fig 05/fig5-4.png)"
   ]
  },
  {
   "attachments": {},
   "cell_type": "markdown",
   "metadata": {},
   "source": [
    "## Running the Nginx Web Serber Container\n",
    "\n",
    "* Kitematic을 시작한다.\n",
    "* create 버튼을 클릭해서 Nginx을 다운로드하고 실행한다.\n",
    "\n",
    "![Docker](fig 05/fig5-1.png)\n",
    "![Docker](fig 05/fig5-2.png)\n",
    "\n",
    "\n",
    "* Web preview를 눌러보면 아래와 같은 웹 서버가 뜬다.\n",
    "\n",
    "\n",
    "![Docker](fig 05/fig5-3.png)\n",
    "\n",
    "Kitematic이 Docker Hub에서 kitematkc/hello-world-nginx 이미지를 다운로드 한 다음, 이미지에서 Docker Nginx 컨테이너를 만들고 실행함."
   ]
  },
  {
   "attachments": {},
   "cell_type": "markdown",
   "metadata": {},
   "source": [
    "## Viewing the Website Data\n",
    "\n",
    "* 이 컨테이너는 Docker Volume을 통해서 웹사이트의 데이터를 보여줍니다.\n",
    "* Kitematic은 Docekr Voulme을 쉽게 관리할 수 있다.\n",
    "* 기본적으로 /Kitematic에 볼륨을 저장하지만 컨테이너 설정에서 볼륨 변경 가능\n",
    "* Volumes 는 도커에서 사용할 저장역역에 대한 설정\n",
    "\n",
    "![Docker](fig 05/fig5-8.png)\n",
    "![Docker](fig 05/fig5-6.png)\n",
    "![Docker](fig 05/fig5-7.png)"
   ]
  },
  {
   "cell_type": "markdown",
   "metadata": {},
   "source": [
    "## Serving Your Own Website Data\n",
    "\n",
    "* https://kitematic.com/docs/nginx-web-server/ 이 사이트에 첨부되어있는 2048게임의 파일을 다운로드 한다.\n",
    "* 아까 열었던 website_files 에 압축을 푼다.\n",
    "\n",
    "![Docker](fig 05/fig5-9.png)\n",
    "\n",
    "* 다시 Kitematic으로 돌아가서 restart 버튼을 누른다.\n",
    "\n",
    "![Docker](fig 05/fig5-10.png)\n"
   ]
  },
  {
   "cell_type": "code",
   "execution_count": null,
   "metadata": {
    "collapsed": true
   },
   "outputs": [],
   "source": []
  }
 ],
 "metadata": {
  "kernelspec": {
   "display_name": "Python 3",
   "language": "python",
   "name": "python3"
  },
  "language_info": {
   "codemirror_mode": {
    "name": "ipython",
    "version": 3
   },
   "file_extension": ".py",
   "mimetype": "text/x-python",
   "name": "python",
   "nbconvert_exporter": "python",
   "pygments_lexer": "ipython3",
   "version": "3.6.1"
  }
 },
 "nbformat": 4,
 "nbformat_minor": 2
}
