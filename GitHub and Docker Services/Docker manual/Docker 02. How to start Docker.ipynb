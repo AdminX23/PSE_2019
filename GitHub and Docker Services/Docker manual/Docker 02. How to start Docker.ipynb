{
 "cells": [
  {
   "cell_type": "markdown",
   "metadata": {},
   "source": [
    "# 02. How to start Docker"
   ]
  },
  {
   "cell_type": "markdown",
   "metadata": {},
   "source": [
    "## Docker Desktop 설치를 위한 System Requirements\n",
    "\n",
    "* windows 10 64bit : pro, enterprise or education\n",
    "* Virtualization is enabled in BIOS\n",
    "* CPU SLAT-capable feature\n",
    "* At least 4GB of RAM\n",
    "\n",
    "만약 시스템이 이런 요구조건들을 충족하지 못한다면 Docker Toolbox를 설치할 수 있다.\n",
    "Docker Toolbox는 Hyper-V 기술이 아닌 Oracle Virtual Box를 사용한다.\n",
    "\n",
    "## Window 10 education 받는 방법\n",
    "\n",
    "* http://portal.seoultech.ac.kr/ \n",
    "\n",
    "![도커](fig 02/fig2-5.png)\n",
    "\n",
    "![도커](fig 02/fig2-7.png) \n",
    "\n",
    "* 첨부파일에 설명된 대로 하면 제품 키를 받을 수 있다.\n",
    "* 한 사람당 하나만 제공되며 제품 키는 30일 간만 보여지고 그 뒤로는 다시 볼 수 없으므로 메모해두는 것을 권장한다.\n",
    "* 제공받은 제품 키는 반영구적이나 한 대의 기기에서만 사용이 가능하다. \n",
    "\n",
    "![도커](fig 02/fig2-8.png)\n",
    "[제어판] - [시스템]에서 제품키 변경을 눌러서 변경 가능\n"
   ]
  },
  {
   "cell_type": "markdown",
   "metadata": {},
   "source": [
    "## Docker Desktop 설치 방법\n",
    "\n",
    "* https://hub.docker.com/editions/community/docker-ce-desktop-windows\n",
    "\n",
    "* 로그인 필요\n",
    "\n",
    "![도커](fig 02/fig2-6.png)\n",
    "![도커](fig 02/fig2-1.png)\n",
    "![도커](fig 02/fig2-2.png)\n",
    "![도커](fig 02/fig2-3.png)\n",
    "![도커](fig 02/fig2-4.png)\n",
    "가상화 설정 관련 내용이다. ok하면 컴퓨터 재부팅이 필요하다."
   ]
  }
 ],
 "metadata": {
  "kernelspec": {
   "display_name": "Python 3",
   "language": "python",
   "name": "python3"
  },
  "language_info": {
   "codemirror_mode": {
    "name": "ipython",
    "version": 3
   },
   "file_extension": ".py",
   "mimetype": "text/x-python",
   "name": "python",
   "nbconvert_exporter": "python",
   "pygments_lexer": "ipython3",
   "version": "3.6.1"
  }
 },
 "nbformat": 4,
 "nbformat_minor": 2
}
