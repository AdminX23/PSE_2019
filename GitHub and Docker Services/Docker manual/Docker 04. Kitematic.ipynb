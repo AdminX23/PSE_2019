{
 "cells": [
  {
   "cell_type": "markdown",
   "metadata": {},
   "source": [
    "# 04. Kitematic\n",
    "\n",
    "다룰 내용: Kitematic beginning"
   ]
  },
  {
   "cell_type": "markdown",
   "metadata": {},
   "source": [
    "## 1. Kitematic Install\n",
    "\n",
    "* Kitematic: Docker 컨테이너와 이미지 등을 쉽게 다룰 수 있는 GUI\n",
    "* Docker Toolbox를 설치할 때 자동으로 설치된다.\n",
    "* https://kitematic.com/\n",
    "* https://docs.docker.com/kitematic/userguide/\n",
    "* Docker Desktop Icon 에서 마우스 우클릭을 한 뒤 Kitematic을 실행할 수 있다.\n",
    "* Kitematic을 실행하기 위해서는 최신 버젼의 Kitematic이 `C:/Program Files/Docker/Kitematic` 디렉토리에 있어야 한다.\n",
    "* Kitematic이 없을 경우에는 설치 링크로 연결시켜 준다. (v1.8.8)\n",
    "* 파일을 다운로드 받고 압축을 상위에 표기한 디렉토리 대로 위치시키면 된다.\n",
    "![Kitematic download](fig 04/fig4-1.png)\n",
    "\n",
    "* 설치한 뒤 Kitematic을 실행하면 로그인 화면을 볼 수 있다.\n",
    "* Docker Hub의 계정 정보를 입력하면 로그인할 수 있다.\n",
    "![Kitematic login](fig 04/fig4-2.png)\n",
    "\n",
    "* 홈 화면에서 다양한 컨테이너 이미지들을 버튼 한 번으로 다운받을 수 있다.\n",
    "![Kitematic](fig 04/fig4-3.png)\n",
    "\n",
    "* Create 버튼을 누르면 컨테이너 다운을 시작한다.\n",
    "![Kitematic](fig 04/fig4-4.png)\n",
    "\n",
    "* Windows10 Pro or Education 의 경우 Kitematic의 실행에 오류가 발생했다.\n",
    "![Kitematic](fig 04/fig4-5.png)\n",
    "\n",
    "* `context canceled` 오류를 검색한 뒤 해결을 시도하였다.\n",
    "![Kitematic](fig 04/fig4-6.png)\n",
    "![Kitematic](fig 04/fig4-7.png)\n",
    "\n",
    "* 버젼에 대한 문제를 해결하기 위해 답변 내용 대로 `v0.17.3`을 설치하였다.\n",
    "* 그 결과 최신 버젼의 파일로 업데이트(v1.8.8) 해야 한다는 창을 확인하였다.\n",
    "![Kitematic](fig 04/fig4-8.png)\n",
    "![Kitematic](fig 04/fig4-9.png)\n",
    "\n",
    "* 계속 답변을 찾던 중 Kitematic의 github을 탐색하였다.\n",
    "* github에는 `v0.17.7`이 최신임을 확인하고 WIndows로 설치하였다.\n",
    "![Kitematic](fig 04/fig4-10.png)\n",
    "\n",
    "* 그 결과 `context canceled` 오류가 발생하지 않으며 이미지를 다운로드 받을 수 있게 되었다.\n",
    "![Kitematic](fig 04/fig4-11.png)\n",
    "\n",
    "* 두 개의 컨테이너를 다운받아 실행시켜 보았다.\n",
    "![Kitematic](fig 04/fig4-12.png)\n",
    "\n",
    "\n",
    "* 다음 내용\n",
    "  * Kitematic을 통해 컨테이너 실행시키고 할 수 있는 것들\n",
    "  * Kitematic 설정 및 기능"
   ]
  }
 ],
 "metadata": {
  "kernelspec": {
   "display_name": "Python 3",
   "language": "python",
   "name": "python3"
  },
  "language_info": {
   "codemirror_mode": {
    "name": "ipython",
    "version": 3
   },
   "file_extension": ".py",
   "mimetype": "text/x-python",
   "name": "python",
   "nbconvert_exporter": "python",
   "pygments_lexer": "ipython3",
   "version": "3.7.1"
  }
 },
 "nbformat": 4,
 "nbformat_minor": 2
}
