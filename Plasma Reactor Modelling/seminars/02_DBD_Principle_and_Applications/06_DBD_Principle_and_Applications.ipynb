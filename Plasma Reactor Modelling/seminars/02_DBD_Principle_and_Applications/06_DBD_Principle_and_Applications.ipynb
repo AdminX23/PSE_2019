{
 "cells": [
  {
   "cell_type": "markdown",
   "metadata": {},
   "source": [
    "## Dielectric-Barrier Discharges. Principle and Applications"
   ]
  },
  {
   "cell_type": "markdown",
   "metadata": {},
   "source": [
    "### 1. Abstract"
   ]
  },
  {
   "cell_type": "markdown",
   "metadata": {},
   "source": [
    "- Dielectric-barrier discharges are non-equilibrium discharges that can be conveniently operated over a wide temperature and pressure range. \n",
    "<br>\n",
    "- At about atmospheric pressure electrical breakdown occurs in many independent thin current filaments. \n",
    "<br>\n",
    "- These short-lived microdischarges have properties of transient high pressure glow discharges \n",
    "<br>with electron energies ideally suited for exciting or dissociating background gas atoms and molecules."
   ]
  },
  {
   "cell_type": "markdown",
   "metadata": {},
   "source": [
    "- **DBD 방전현상**은 **비평형 방전**이고, **넓은 범위의 온도와 압력**에서 사용가능하다.\n",
    "- 대기압에서의 전기적 **항복현상**은 **thin current filaments에 무관**하게 발생한다.\n",
    "- 이러한 항복현상 즉, 짧은 시간의 **미세방전**들은 일시적인 고압의 **'글로 방전(저압 가스 플라즈마, 색상을 띔)'**이라는 특성을 가진다.\n",
    "- 이 **'글로 방전'**은 가스 원자나 분자를 **여기상태로 만드는데 적합한 전자에너지**를 가진다.\n",
    "- 이들은 많은 산업에 적용될 가능성이 있다."
   ]
  },
  {
   "cell_type": "markdown",
   "metadata": {},
   "source": [
    "### 2. 본문"
   ]
  },
  {
   "cell_type": "markdown",
   "metadata": {},
   "source": [
    "#### 1. DISCHARGE STRUCTURE AND MICRODISCHARGE PROPERTIES\n",
    "방전 구조와 미세방전의 특성"
   ]
  },
  {
   "cell_type": "markdown",
   "metadata": {},
   "source": [
    "- Dielectric-barrier discharges are characterized by the presence of one or more insulating layers \n",
    "<br>in the current path between metal electrodes in addition to the discharge space. \n",
    "<br>\n",
    "- Different planar or cylindrical configurations are common"
   ]
  },
  {
   "cell_type": "markdown",
   "metadata": {},
   "source": [
    "- DBD는 금속 **전극 사이의 전류 경로(방전 공간)**에 하나 이상의 **절연 층**이 존재하는 것이 특징이다.\n",
    "- 평면 또는 원통형 구성이 서로 다르다"
   ]
  },
  {
   "cell_type": "markdown",
   "metadata": {},
   "source": [
    "<br>\n",
    "\n",
    "$$[평면형\\ DBD\\ vs\\ 원통형\\ DBD]$$"
   ]
  },
  {
   "cell_type": "markdown",
   "metadata": {},
   "source": [
    "<img src=\".\\06_Fig\\1.png\" \"width=700\" />"
   ]
  },
  {
   "cell_type": "markdown",
   "metadata": {},
   "source": [
    " "
   ]
  },
  {
   "cell_type": "markdown",
   "metadata": {},
   "source": []
  }
 ],
 "metadata": {
  "kernelspec": {
   "display_name": "Python 3",
   "language": "python",
   "name": "python3"
  },
  "language_info": {
   "codemirror_mode": {
    "name": "ipython",
    "version": 3
   },
   "file_extension": ".py",
   "mimetype": "text/x-python",
   "name": "python",
   "nbconvert_exporter": "python",
   "pygments_lexer": "ipython3",
   "version": "3.6.5"
  }
 },
 "nbformat": 4,
 "nbformat_minor": 2
}
