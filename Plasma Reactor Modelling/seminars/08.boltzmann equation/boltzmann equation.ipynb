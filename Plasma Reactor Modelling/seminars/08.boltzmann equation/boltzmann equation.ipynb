{
 "cells": [
  {
   "cell_type": "markdown",
   "metadata": {},
   "source": [
    "# Boltzmann equation for DBD plasma"
   ]
  },
  {
   "cell_type": "markdown",
   "metadata": {},
   "source": [
    "# 1. Boltzmann equation"
   ]
  },
  {
   "cell_type": "markdown",
   "metadata": {},
   "source": [
    "## 정의"
   ]
  },
  {
   "cell_type": "markdown",
   "metadata": {},
   "source": [
    "루트비히 볼트만은 1872년 <기체 분자의 열평형에 대한 추가 연구, Weitere Studien über das Wärmegleichgewicht unter Gasmolekülen)라는 논문에서 H와 정리와 같이 볼츠만 방정식을 발표하였다."
   ]
  },
  {
   "cell_type": "markdown",
   "metadata": {},
   "source": [
    "볼츠만 운송 방정식은 충돌로만 상호작용하는 이상 기체의 비평형 통계역학계를 다루는 적분 미분 방정식이다."
   ]
  },
  {
   "cell_type": "markdown",
   "metadata": {},
   "source": [
    "![alt](./fig/볼츠만 방정식의 정의.png)"
   ]
  },
  {
   "cell_type": "markdown",
   "metadata": {},
   "source": [
    "간단히 말하면 기체 분자의 위치와 속도에 관한 분포함수(f)의 시간적 변화를 정하는 방정식이다"
   ]
  },
  {
   "cell_type": "markdown",
   "metadata": {},
   "source": [
    "기체 중 한 분자의 운동상태를 정하려면 공간좌표 x, y, z와 운동량 성분 p, p, p를 지정하면 된다.\n",
    "\n",
    "\n",
    "단 간편하게 기술하기 위해 분자를 질점(質點)으로 보고 분자 자체의 회전이나 진동의 자유도(自由度)가 없는 것으로 한다.\n",
    "\n",
    "\n",
    "기체 중에는 다수의 분자가 포함되어 있고 또 난잡한 운동을 하므로 분자의 위치 · 운동량은 어떤 특정한 종류의 통계적인 분포(分布)를 한다고 여겨진다.\n",
    "\n",
    "\n",
    "이 분포를 기술하기 위해 시각 t에서 좌표가 x~x+dx, y~y+dy, z~z+dz의 범위내, 또 운동량 성분이 p~p+dp, p~p+dp, p~p+dp의 범위 내에 있는 분자수를 다음과 같이 정의한다."
   ]
  },
  {
   "cell_type": "markdown",
   "metadata": {},
   "source": [
    "$f(x,y,z,p_{x},p_{y},p_{z},t)\\times dxdydzdp_{x}dp_{y}dp_{xz}$"
   ]
  },
  {
   "cell_type": "markdown",
   "metadata": {},
   "source": [
    "위와 같은 함수 f를 위상공간에서의 분포함수라고 한다.\n",
    "\n",
    "이때 위상공간이란 좌표와 운동량으로 구성되는 공간이다.\n",
    "\n",
    "분포함수는 열평형상태에서는 시간 t에 의존하지 않지만 일반적으로는 시간과 함께 변한다.\n",
    "\n",
    "이때 시간변화의 원인은 다음과 같다.\n",
    "\n",
    "1. 분자가 운동법칙에 따라 위상공간을 유동하므로 시간에 의존하기 때문\n",
    "\n",
    "2. 분자간의 충돌로 분자수가 달라진다.\n",
    "\n",
    "이러한 유동항(1)과 충돌항(2)의 양쪽을 고려해서 도출된 f에 대한 방정식이 볼츠만 방정식이다."
   ]
  },
  {
   "cell_type": "markdown",
   "metadata": {},
   "source": [
    "## 플라즈마와 볼츠만 방정식"
   ]
  },
  {
   "cell_type": "markdown",
   "metadata": {},
   "source": [
    "플라즈마는 electron e, ions i, neutrals n이 각기 다른 r(위치, positions)와 외부 힘(전기장, 중력장) 및 collision process(ionization, Coulomb, charge exchange etc)의 영향을 받는 v(속도, velocities)로 이뤄진다.\n",
    "\n",
    "이때 average macroscopic plasma parameter(electron density, pressure, ion temperature)는 입자의 속도, 위치 분포의 marcosocopic 평균으로부터 얻을 수 있다.\n",
    "\n",
    "따라서 플라즈마에서 볼츠만 방정식은 modeling에 입자의 속도, 위치 분포의 marcosocopic 평균을 계산하기 위해 사용된다."
   ]
  },
  {
   "cell_type": "markdown",
   "metadata": {},
   "source": [
    "A plasma is an ensemble of particles electrons e, ions i and neutrals n with\n",
    "different positions r and velocities v which move under the influence of external\n",
    "forces (electromagnetic fields, gravity) and internal collision processes (ionization,\n",
    "Coulomb, charge exchange etc.)\n",
    "However, what we observe is some “average” macroscopic plasma parameters\n",
    "such as j - current density, ne - electron density, P - pressure, Ti - ion temperature\n",
    "etc. These parameters are macrosocopic averages over the distribution of\n",
    "particle velocities and/or positions."
   ]
  },
  {
   "cell_type": "markdown",
   "metadata": {},
   "source": [
    "the distribution of particles is a function of both time and\n",
    "the phase space coordinates (r, v). The Boltzmann equation describes the time\n",
    "evolution of f under the action of external forces and internal collisions. The\n",
    "remainder of this section draws on the derivation given in [2]."
   ]
  },
  {
   "cell_type": "code",
   "execution_count": null,
   "metadata": {},
   "outputs": [],
   "source": []
  }
 ],
 "metadata": {
  "kernelspec": {
   "display_name": "Python 3",
   "language": "python",
   "name": "python3"
  },
  "language_info": {
   "codemirror_mode": {
    "name": "ipython",
    "version": 3
   },
   "file_extension": ".py",
   "mimetype": "text/x-python",
   "name": "python",
   "nbconvert_exporter": "python",
   "pygments_lexer": "ipython3",
   "version": "3.6.5"
  }
 },
 "nbformat": 4,
 "nbformat_minor": 2
}
