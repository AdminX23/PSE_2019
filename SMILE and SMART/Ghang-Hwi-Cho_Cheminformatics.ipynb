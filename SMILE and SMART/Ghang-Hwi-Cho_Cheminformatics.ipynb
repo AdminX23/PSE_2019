{
 "cells": [
  {
   "cell_type": "markdown",
   "metadata": {},
   "source": [
    "숭실대 조광휘 교수님\n",
    "\n",
    "* [youtube](https://www.youtube.com/channel/UCT9qchvMa6K1ga_9FkoqObQ)"
   ]
  },
  {
   "cell_type": "markdown",
   "metadata": {},
   "source": [
    "화합물빅데이터 : 1.Representation of Molecules Part 1"
   ]
  },
  {
   "cell_type": "markdown",
   "metadata": {},
   "source": [
    "화합물빅데이터 : 2. Representation of Molecules Part 2"
   ]
  },
  {
   "cell_type": "markdown",
   "metadata": {},
   "source": [
    "화합물빅데이터 : 3. SDF format "
   ]
  },
  {
   "cell_type": "markdown",
   "metadata": {},
   "source": [
    "화합물빅데이터 : 4. Avogadro 의 활용 "
   ]
  },
  {
   "cell_type": "markdown",
   "metadata": {},
   "source": [
    "화합물빅데이터 : 5. Python을 활용한 SDF 다루기"
   ]
  },
  {
   "cell_type": "markdown",
   "metadata": {},
   "source": [
    "화합물빅데이터 : 6. Coordinate System"
   ]
  },
  {
   "cell_type": "markdown",
   "metadata": {},
   "source": [
    "화합물빅데이터 : 7. RDKit 의 활용"
   ]
  },
  {
   "cell_type": "markdown",
   "metadata": {},
   "source": [
    "화합물빅데이터 : 8. 구조-성질상관관계분석 "
   ]
  },
  {
   "cell_type": "markdown",
   "metadata": {},
   "source": [
    "화합물빅데이터 : 9. Data 활용과 PCA "
   ]
  },
  {
   "cell_type": "markdown",
   "metadata": {},
   "source": [
    "화합물빅데이터 : 10. Regression"
   ]
  },
  {
   "cell_type": "markdown",
   "metadata": {},
   "source": [
    "화합물빅데이터 : 11.Genetic Algorithm"
   ]
  },
  {
   "cell_type": "markdown",
   "metadata": {},
   "source": [
    "화합물빅데이터 : 12. Supervised Learning"
   ]
  },
  {
   "cell_type": "markdown",
   "metadata": {},
   "source": [
    "화합물빅데이터 : 13. Unsupervised Learning"
   ]
  },
  {
   "cell_type": "markdown",
   "metadata": {},
   "source": [
    "화합물빅데이터 : 14. 인공신경망"
   ]
  }
 ],
 "metadata": {
  "kernelspec": {
   "display_name": "Python 3",
   "language": "python",
   "name": "python3"
  },
  "language_info": {
   "codemirror_mode": {
    "name": "ipython",
    "version": 3
   },
   "file_extension": ".py",
   "mimetype": "text/x-python",
   "name": "python",
   "nbconvert_exporter": "python",
   "pygments_lexer": "ipython3",
   "version": "3.5.6"
  }
 },
 "nbformat": 4,
 "nbformat_minor": 2
}
