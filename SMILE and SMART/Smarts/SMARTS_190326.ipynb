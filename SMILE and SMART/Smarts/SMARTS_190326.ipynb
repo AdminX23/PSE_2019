{
 "cells": [
  {
   "cell_type": "markdown",
   "metadata": {},
   "source": [
    "# SMARTS (SMiles ARbitrary Target Specification)\n",
    "<br><br>\n",
    "\n",
    "> 참고\n",
    "* [Daylight](http://www.daylight.com/dayhtml/doc/theory/theory.smiles.html)\n",
    "* [RDKit](https://www.rdkit.org/)"
   ]
  },
  {
   "cell_type": "markdown",
   "metadata": {},
   "source": [
    "SMARTS | SMILES\n",
    "---- | ----\n",
    "Molecular pattern | Molecular structure"
   ]
  },
  {
   "cell_type": "markdown",
   "metadata": {},
   "source": [
    "### Introduction\n",
    "\n",
    "* `SMiles ARbitrary Target Specification`\n",
    "* 분자의 패턴이나 성질을 표현하기 위한 언어이다.\n",
    "* 컴퓨터 프로그램에서 물질의 디지털 표현에 이용.\n",
    " > 특정 작용기를 강조하는 것 <br>\n",
    " `drug design`-*database*에 유사 구조, 특성을 가진 물질 찾기 <br>\n",
    " 분석화학-모르는 물질의 구조와 특성을 예측하기\n",
    "\n",
    "* SMARTS는 SMILES의 연장선이며, 확장된 규칙으로 구조를 구분지을 수 있게 해준다.\n",
    "> `SMILES`의 모든 기호(atoms & bonds)과 성질표현(원자의 표현, 전하, 이성질체의 명시)들은 `SMARTS`에서도 유효하다. <br>\n",
    " `SMARTS`는 확장된 논리적 연산자들과 부가적인 분자 표현법도 가지고있다. <br>\n",
    "  \n",
    "* `SMARTS`를 이용해 유연하고 효과적인 특정 구조 찾기가 가능하다.\n",
    "* 구조적 패턴을 일반성과 특수성의 여러 단계로 표현할 수 있다.\n",
    " \n",
    "**SMILES** |-| **SMARTS** |-\n",
    "---- | ---- | ---- | ----\n",
    "[CH4] | methane | [CH4] | methane\n",
    "C | methane | C | `carbon atoms` with any number of hydrogens\n",
    "\n",
    "\n",
    "\n",
    "> SMILES에선 methane을 `C` or `[CH4]`로 표현할 수 있다<br>\n",
    "> SMARTS 에서 methane은 `[CH4]`이다. ( **High specificity SMARTS** ) <br>\n",
    " `[CH4]`는 **4개의 수소를 갖는 지방족 탄소 원자를 의미**하며, `ehtane`, `ethene`, `cyclopentane`의 탄소 원자들과 다르다.\n",
    "\n",
    "> 반대로 SMARTS에서 `C`는 수소의 갯수가 4개가 아닌 지방족 탄소원자들도 포함한다. ( **Low specificity SMARTS** ) <br>\n",
    " `ehtane`, `ethene`, `cyclopentane`의 **탄소 원자들이 될 수도 있다.**\n",
    ">> 단독으로 쓰인 smarts code `C`는 `ehtane`, `ethene`, `cyclopentane`의 탄소 원자에 포함된다."
   ]
  },
  {
   "cell_type": "code",
   "execution_count": 1,
   "metadata": {},
   "outputs": [],
   "source": [
    "#RDkit 적용\n",
    "from __future__ import print_function #2.X대 python호환을 위해\n",
    "from rdkit import Chem\n",
    "from rdkit.Chem import AllChem"
   ]
  },
  {
   "cell_type": "code",
   "execution_count": 2,
   "metadata": {},
   "outputs": [],
   "source": [
    "from rdkit.Chem.Draw import IPythonConsole\n",
    "from rdkit.Chem import Draw"
   ]
  },
  {
   "cell_type": "markdown",
   "metadata": {},
   "source": [
    "**기준.HasSubstructMatch(비교대상)**<br>\n",
    "일치하면 `True`, 일치하지 않으면 `False`를 출력한다<br>\n",
    "**기준.GetSubstructMatch(비교대상)**<br>\n",
    "포함이 된다면 포함되는 번째의 수를 낮은 숫자부터 모두 출력한다<br>\n",
    "(n,)<Br>\n",
    "포함이 되지 않는다면 ()을 출력한다."
   ]
  },
  {
   "cell_type": "code",
   "execution_count": 3,
   "metadata": {},
   "outputs": [],
   "source": [
    "m1 = AllChem.MolFromSmiles('C')\n",
    "m2 = AllChem.MolFromSmiles('[CH4]')\n",
    "\n",
    "m3 = AllChem.MolFromSmarts('C')\n",
    "m4 = AllChem.MolFromSmarts('[CH4]')"
   ]
  },
  {
   "cell_type": "code",
   "execution_count": 4,
   "metadata": {},
   "outputs": [
    {
     "data": {
      "text/plain": [
       "True"
      ]
     },
     "execution_count": 4,
     "metadata": {},
     "output_type": "execute_result"
    }
   ],
   "source": [
    "m1.HasSubstructMatch(m2)"
   ]
  },
  {
   "cell_type": "code",
   "execution_count": 5,
   "metadata": {},
   "outputs": [
    {
     "data": {
      "text/plain": [
       "True"
      ]
     },
     "execution_count": 5,
     "metadata": {},
     "output_type": "execute_result"
    }
   ],
   "source": [
    "m1.HasSubstructMatch(m3)"
   ]
  },
  {
   "cell_type": "code",
   "execution_count": 6,
   "metadata": {},
   "outputs": [
    {
     "data": {
      "text/plain": [
       "True"
      ]
     },
     "execution_count": 6,
     "metadata": {},
     "output_type": "execute_result"
    }
   ],
   "source": [
    "m1.HasSubstructMatch(m4)"
   ]
  },
  {
   "cell_type": "code",
   "execution_count": 7,
   "metadata": {},
   "outputs": [
    {
     "data": {
      "text/plain": [
       "True"
      ]
     },
     "execution_count": 7,
     "metadata": {},
     "output_type": "execute_result"
    }
   ],
   "source": [
    "m2.HasSubstructMatch(m3)"
   ]
  },
  {
   "cell_type": "code",
   "execution_count": 8,
   "metadata": {},
   "outputs": [
    {
     "data": {
      "text/plain": [
       "True"
      ]
     },
     "execution_count": 8,
     "metadata": {},
     "output_type": "execute_result"
    }
   ],
   "source": [
    "m2.HasSubstructMatch(m4)"
   ]
  },
  {
   "cell_type": "code",
   "execution_count": 9,
   "metadata": {},
   "outputs": [
    {
     "data": {
      "text/plain": [
       "True"
      ]
     },
     "execution_count": 9,
     "metadata": {},
     "output_type": "execute_result"
    }
   ],
   "source": [
    "m3.HasSubstructMatch(m1)"
   ]
  },
  {
   "cell_type": "code",
   "execution_count": 10,
   "metadata": {},
   "outputs": [
    {
     "data": {
      "text/plain": [
       "True"
      ]
     },
     "execution_count": 10,
     "metadata": {},
     "output_type": "execute_result"
    }
   ],
   "source": [
    "m3.HasSubstructMatch(m2)"
   ]
  },
  {
   "cell_type": "code",
   "execution_count": 11,
   "metadata": {},
   "outputs": [
    {
     "ename": "RuntimeError",
     "evalue": "Pre-condition Violation\n\tgetNumImplicitHs() called without preceding call to calcImplicitValence()\n\tViolation occurred on line 153 in file Code\\GraphMol\\Atom.cpp\n\tFailed Expression: d_implicitValence > -1\n\tRDKIT: 2018.03.3\n\tBOOST: 1_66\n",
     "output_type": "error",
     "traceback": [
      "\u001b[1;31m---------------------------------------------------------------------------\u001b[0m",
      "\u001b[1;31mRuntimeError\u001b[0m                              Traceback (most recent call last)",
      "\u001b[1;32m<ipython-input-11-e2335e414e2c>\u001b[0m in \u001b[0;36m<module>\u001b[1;34m()\u001b[0m\n\u001b[1;32m----> 1\u001b[1;33m \u001b[0mm3\u001b[0m\u001b[1;33m.\u001b[0m\u001b[0mHasSubstructMatch\u001b[0m\u001b[1;33m(\u001b[0m\u001b[0mm4\u001b[0m\u001b[1;33m)\u001b[0m\u001b[1;33m\u001b[0m\u001b[0m\n\u001b[0m",
      "\u001b[1;31mRuntimeError\u001b[0m: Pre-condition Violation\n\tgetNumImplicitHs() called without preceding call to calcImplicitValence()\n\tViolation occurred on line 153 in file Code\\GraphMol\\Atom.cpp\n\tFailed Expression: d_implicitValence > -1\n\tRDKIT: 2018.03.3\n\tBOOST: 1_66\n"
     ]
    }
   ],
   "source": [
    "m3.HasSubstructMatch(m4)"
   ]
  },
  {
   "cell_type": "code",
   "execution_count": 12,
   "metadata": {},
   "outputs": [
    {
     "ename": "RuntimeError",
     "evalue": "Pre-condition Violation\n\tgetNumImplicitHs() called without preceding call to calcImplicitValence()\n\tViolation occurred on line 153 in file Code\\GraphMol\\Atom.cpp\n\tFailed Expression: d_implicitValence > -1\n\tRDKIT: 2018.03.3\n\tBOOST: 1_66\n",
     "output_type": "error",
     "traceback": [
      "\u001b[1;31m---------------------------------------------------------------------------\u001b[0m",
      "\u001b[1;31mRuntimeError\u001b[0m                              Traceback (most recent call last)",
      "\u001b[1;32m<ipython-input-12-2fcb76ed2d41>\u001b[0m in \u001b[0;36m<module>\u001b[1;34m()\u001b[0m\n\u001b[1;32m----> 1\u001b[1;33m \u001b[0mm3\u001b[0m\u001b[1;33m.\u001b[0m\u001b[0mGetSubstructMatch\u001b[0m\u001b[1;33m(\u001b[0m\u001b[0mm4\u001b[0m\u001b[1;33m)\u001b[0m\u001b[1;33m\u001b[0m\u001b[0m\n\u001b[0m",
      "\u001b[1;32mC:\\Anaconda3\\lib\\site-packages\\rdkit\\Chem\\Draw\\IPythonConsole.py\u001b[0m in \u001b[0;36m_GetSubstructMatch\u001b[1;34m(mol, query, **kwargs)\u001b[0m\n\u001b[0;32m    133\u001b[0m \u001b[1;33m\u001b[0m\u001b[0m\n\u001b[0;32m    134\u001b[0m \u001b[1;32mdef\u001b[0m \u001b[0m_GetSubstructMatch\u001b[0m\u001b[1;33m(\u001b[0m\u001b[0mmol\u001b[0m\u001b[1;33m,\u001b[0m \u001b[0mquery\u001b[0m\u001b[1;33m,\u001b[0m \u001b[1;33m**\u001b[0m\u001b[0mkwargs\u001b[0m\u001b[1;33m)\u001b[0m\u001b[1;33m:\u001b[0m\u001b[1;33m\u001b[0m\u001b[0m\n\u001b[1;32m--> 135\u001b[1;33m   \u001b[0mres\u001b[0m \u001b[1;33m=\u001b[0m \u001b[0mmol\u001b[0m\u001b[1;33m.\u001b[0m\u001b[0m__GetSubstructMatch\u001b[0m\u001b[1;33m(\u001b[0m\u001b[0mquery\u001b[0m\u001b[1;33m,\u001b[0m \u001b[1;33m**\u001b[0m\u001b[0mkwargs\u001b[0m\u001b[1;33m)\u001b[0m\u001b[1;33m\u001b[0m\u001b[0m\n\u001b[0m\u001b[0;32m    136\u001b[0m   \u001b[1;32mif\u001b[0m \u001b[0mhighlightSubstructs\u001b[0m\u001b[1;33m:\u001b[0m\u001b[1;33m\u001b[0m\u001b[0m\n\u001b[0;32m    137\u001b[0m     \u001b[0mmol\u001b[0m\u001b[1;33m.\u001b[0m\u001b[0m__sssAtoms\u001b[0m \u001b[1;33m=\u001b[0m \u001b[0mlist\u001b[0m\u001b[1;33m(\u001b[0m\u001b[0mres\u001b[0m\u001b[1;33m)\u001b[0m\u001b[1;33m\u001b[0m\u001b[0m\n",
      "\u001b[1;31mRuntimeError\u001b[0m: Pre-condition Violation\n\tgetNumImplicitHs() called without preceding call to calcImplicitValence()\n\tViolation occurred on line 153 in file Code\\GraphMol\\Atom.cpp\n\tFailed Expression: d_implicitValence > -1\n\tRDKIT: 2018.03.3\n\tBOOST: 1_66\n"
     ]
    }
   ],
   "source": [
    "m3.GetSubstructMatch(m4)"
   ]
  },
  {
   "cell_type": "code",
   "execution_count": 13,
   "metadata": {},
   "outputs": [
    {
     "data": {
      "text/plain": [
       "True"
      ]
     },
     "execution_count": 13,
     "metadata": {},
     "output_type": "execute_result"
    }
   ],
   "source": [
    "m4.HasSubstructMatch(m1)"
   ]
  },
  {
   "cell_type": "code",
   "execution_count": 14,
   "metadata": {},
   "outputs": [
    {
     "data": {
      "text/plain": [
       "True"
      ]
     },
     "execution_count": 14,
     "metadata": {},
     "output_type": "execute_result"
    }
   ],
   "source": [
    "m4.HasSubstructMatch(m2)"
   ]
  },
  {
   "cell_type": "code",
   "execution_count": 15,
   "metadata": {},
   "outputs": [
    {
     "data": {
      "text/plain": [
       "True"
      ]
     },
     "execution_count": 15,
     "metadata": {},
     "output_type": "execute_result"
    }
   ],
   "source": [
    "m4.HasSubstructMatch(m3)"
   ]
  },
  {
   "cell_type": "code",
   "execution_count": 16,
   "metadata": {},
   "outputs": [
    {
     "data": {
      "text/plain": [
       "(0,)"
      ]
     },
     "execution_count": 16,
     "metadata": {},
     "output_type": "execute_result"
    }
   ],
   "source": [
    "m2.GetSubstructMatch(m1)"
   ]
  },
  {
   "cell_type": "code",
   "execution_count": 17,
   "metadata": {},
   "outputs": [
    {
     "data": {
      "text/plain": [
       "(0,)"
      ]
     },
     "execution_count": 17,
     "metadata": {},
     "output_type": "execute_result"
    }
   ],
   "source": [
    "m3.GetSubstructMatch(m1)"
   ]
  },
  {
   "cell_type": "code",
   "execution_count": 18,
   "metadata": {},
   "outputs": [
    {
     "data": {
      "text/plain": [
       "(0,)"
      ]
     },
     "execution_count": 18,
     "metadata": {},
     "output_type": "execute_result"
    }
   ],
   "source": [
    "m3.GetSubstructMatch(m2)"
   ]
  },
  {
   "cell_type": "code",
   "execution_count": 19,
   "metadata": {},
   "outputs": [
    {
     "data": {
      "image/png": "[encoded data removed]",
      "text/plain": [
       "<rdkit.Chem.rdchem.Mol at 0x1e4204b6580>"
      ]
     },
     "execution_count": 19,
     "metadata": {},
     "output_type": "execute_result"
    }
   ],
   "source": [
    "#m1.HasSubstructMatch(m4)\n",
    "e = AllChem.MolFromSmiles('C=C')\n",
    "e"
   ]
  },
  {
   "cell_type": "code",
   "execution_count": 20,
   "metadata": {},
   "outputs": [
    {
     "data": {
      "text/plain": [
       "False"
      ]
     },
     "execution_count": 20,
     "metadata": {},
     "output_type": "execute_result"
    }
   ],
   "source": [
    "# m3 = AllChem.MolFromSmarts('C')\n",
    "# m4 = AllChem.MolFromSmarts('[CH4]')\n",
    "m3.HasSubstructMatch(e)"
   ]
  },
  {
   "cell_type": "code",
   "execution_count": 21,
   "metadata": {},
   "outputs": [
    {
     "data": {
      "text/plain": [
       "False"
      ]
     },
     "execution_count": 21,
     "metadata": {},
     "output_type": "execute_result"
    }
   ],
   "source": [
    "m4.HasSubstructMatch(e)"
   ]
  },
  {
   "cell_type": "code",
   "execution_count": 22,
   "metadata": {},
   "outputs": [
    {
     "data": {
      "text/plain": [
       "False"
      ]
     },
     "execution_count": 22,
     "metadata": {},
     "output_type": "execute_result"
    }
   ],
   "source": [
    "m5 = AllChem.MolFromSmarts('CC')\n",
    "m5.HasSubstructMatch(e)"
   ]
  },
  {
   "cell_type": "code",
   "execution_count": 23,
   "metadata": {},
   "outputs": [
    {
     "data": {
      "text/plain": [
       "True"
      ]
     },
     "execution_count": 23,
     "metadata": {},
     "output_type": "execute_result"
    }
   ],
   "source": [
    "m6 = AllChem.MolFromSmarts('C=C')\n",
    "m6.HasSubstructMatch(e)"
   ]
  },
  {
   "cell_type": "code",
   "execution_count": 24,
   "metadata": {},
   "outputs": [
    {
     "data": {
      "text/plain": [
       "False"
      ]
     },
     "execution_count": 24,
     "metadata": {},
     "output_type": "execute_result"
    }
   ],
   "source": [
    "e.HasSubstructMatch(m5)"
   ]
  },
  {
   "cell_type": "code",
   "execution_count": 25,
   "metadata": {},
   "outputs": [
    {
     "data": {
      "text/plain": [
       "True"
      ]
     },
     "execution_count": 25,
     "metadata": {},
     "output_type": "execute_result"
    }
   ],
   "source": [
    "e.HasSubstructMatch(m6)"
   ]
  },
  {
   "cell_type": "code",
   "execution_count": 26,
   "metadata": {},
   "outputs": [
    {
     "data": {
      "text/plain": [
       "True"
      ]
     },
     "execution_count": 26,
     "metadata": {},
     "output_type": "execute_result"
    }
   ],
   "source": [
    "e.HasSubstructMatch(m1)"
   ]
  },
  {
   "cell_type": "code",
   "execution_count": 27,
   "metadata": {},
   "outputs": [
    {
     "data": {
      "text/plain": [
       "True"
      ]
     },
     "execution_count": 27,
     "metadata": {},
     "output_type": "execute_result"
    }
   ],
   "source": [
    "e.HasSubstructMatch(m2)"
   ]
  },
  {
   "cell_type": "code",
   "execution_count": 28,
   "metadata": {},
   "outputs": [
    {
     "data": {
      "text/plain": [
       "True"
      ]
     },
     "execution_count": 28,
     "metadata": {},
     "output_type": "execute_result"
    }
   ],
   "source": [
    "e.HasSubstructMatch(m3)"
   ]
  },
  {
   "cell_type": "code",
   "execution_count": 29,
   "metadata": {},
   "outputs": [
    {
     "data": {
      "text/plain": [
       "False"
      ]
     },
     "execution_count": 29,
     "metadata": {},
     "output_type": "execute_result"
    }
   ],
   "source": [
    "e.HasSubstructMatch(m4)"
   ]
  },
  {
   "cell_type": "code",
   "execution_count": 30,
   "metadata": {},
   "outputs": [
    {
     "data": {
      "text/plain": [
       "(0,)"
      ]
     },
     "execution_count": 30,
     "metadata": {},
     "output_type": "execute_result"
    }
   ],
   "source": [
    "e.GetSubstructMatch(m1)"
   ]
  },
  {
   "cell_type": "code",
   "execution_count": 31,
   "metadata": {},
   "outputs": [
    {
     "data": {
      "text/plain": [
       "(0,)"
      ]
     },
     "execution_count": 31,
     "metadata": {},
     "output_type": "execute_result"
    }
   ],
   "source": [
    "e.GetSubstructMatch(m2)"
   ]
  },
  {
   "cell_type": "code",
   "execution_count": 32,
   "metadata": {},
   "outputs": [
    {
     "data": {
      "text/plain": [
       "(0,)"
      ]
     },
     "execution_count": 32,
     "metadata": {},
     "output_type": "execute_result"
    }
   ],
   "source": [
    "e.GetSubstructMatch(m3)"
   ]
  },
  {
   "cell_type": "code",
   "execution_count": 33,
   "metadata": {},
   "outputs": [
    {
     "data": {
      "text/plain": [
       "()"
      ]
     },
     "execution_count": 33,
     "metadata": {},
     "output_type": "execute_result"
    }
   ],
   "source": [
    "e.GetSubstructMatch(m4)"
   ]
  },
  {
   "cell_type": "code",
   "execution_count": 34,
   "metadata": {},
   "outputs": [
    {
     "data": {
      "text/plain": [
       "(0, 1)"
      ]
     },
     "execution_count": 34,
     "metadata": {},
     "output_type": "execute_result"
    }
   ],
   "source": [
    "e.GetSubstructMatch(m6)"
   ]
  },
  {
   "cell_type": "markdown",
   "metadata": {},
   "source": [
    "### 1.Atomic Primitives\n",
    "* SMARTS는 SMILES에서 사용되는 원자의 특징(원자 기호, 전하, 이성질체의 명시)보다 더 큰 범주의 많은 원자의 표현을 제공한다.\n",
    "* <**n**> : 숫자 , <**c**> : chiral class"
   ]
  },
  {
   "cell_type": "markdown",
   "metadata": {},
   "source": [
    "Symbol | Symbol name | Atomic property requirements | Default\n",
    "---- | ---- | ----| ----\n",
    "* | wildcard | any atom | (no default)\n",
    "a | aromatic | aromatic | (no default)\n",
    "A | aliphatic | aliphatic | (no default)\n",
    "D<$n$> | degree | <$n$> explicit connections | exactly one\n",
    "H<$n$> | total-H-count | <$n$> attached hydrogens | exactly one\n",
    "h<$n$> | implicit-H-count | <$n$> implicit hydrogens | at least one\n",
    "R<$n$> | ring membership | in <$n$> SSSR rings | any ring atom\n",
    "r<$n$> | ring size | in smallest SSSR ring of size <$n$> | any ring atom\n",
    "v<$n$> | valence | total bond order <$n$> | exactly one\n",
    "X<$n$> | connectivity | <$n$> total connections | exactly one\n",
    "x<$n$> | ring connectivity | <$n$> total ring connections | at least one\n",
    "- <$n$> | negative charge | -<$n$> charge | -1 charge (-- is -2, etc)\n",
    "+<$n$> | positive charge | +<$n$> formal charge | +1 charge (++ is +2, etc)\n",
    "#n | atomic number | atomic number <$n$> | (no default)\n",
    "@ | chirality | anticlockwise | anticlockwise, default class\n",
    "@@ | chirality | clockwise | clockwise, default class\n",
    "@<$c$><$n$> | chirality | chiral class <$c$> chirality <$n$> | (nodefault)\n",
    "@<$c$><$n$>? | chiral or unspec | chirality <$c$><$n$> or unspecified | (no default)\n",
    "<$n$> | atomic mass | explicit atomic mass | unspecified mass\n",
    "\n",
    "**Examples**"
   ]
  },
  {
   "cell_type": "markdown",
   "metadata": {},
   "source": [
    "Symbol | Atomic property requirements\n",
    "---- | ----\n",
    "C | aliphatic carbon atom\n",
    "c | aromatic carbon atom\n",
    "a | aromatic atom\n",
    "[#6] | carbon atom\n",
    "[Ca] | calcium atom\n",
    "[++] | atom with a +2 charge | \n",
    "[R] | atom in any ring\n",
    "[D3] | atom with 3 explicit bonds (implicit H's don't count)\n",
    "[X3] | atom with 3 total bonds (includes implicit H's)\n",
    "[v3] | atom with bond orders totaling 3 (includes implicit H's)\n",
    "C[C@H](F)O | match chirality (H-F-O anticlockwise viewed from C)\n",
    "C[C@?H](F)O | matches if chirality is as specified or is not specified"
   ]
  }
 ],
 "metadata": {
  "kernelspec": {
   "display_name": "Python 3",
   "language": "python",
   "name": "python3"
  },
  "language_info": {
   "codemirror_mode": {
    "name": "ipython",
    "version": 3
   },
   "file_extension": ".py",
   "mimetype": "text/x-python",
   "name": "python",
   "nbconvert_exporter": "python",
   "pygments_lexer": "ipython3",
   "version": "3.6.5"
  }
 },
 "nbformat": 4,
 "nbformat_minor": 2
}
